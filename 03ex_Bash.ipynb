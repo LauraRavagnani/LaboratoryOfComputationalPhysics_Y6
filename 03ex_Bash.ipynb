{
 "cells": [
  {
   "cell_type": "markdown",
   "id": "b5746bd0",
   "metadata": {},
   "source": [
    "The following exercises are meant to be solved by gathering the bash commands incrimentally in two scripts, one for ex 1.* the other for ex 2.* "
   ]
  },
  {
   "cell_type": "markdown",
   "id": "4e60de78",
   "metadata": {},
   "source": [
    "### Ex 1"
   ]
  },
  {
   "cell_type": "markdown",
   "id": "6759df36",
   "metadata": {},
   "source": [
    "1\\.a Make a new directory called `students` in your home. Download a csv file with the list of students of this lab from [here](https://www.dropbox.com/s/867rtx3az6e9gm8/LCP_22-23_students.csv) (use the `wget` command) and copy that to `students`. First check whether the file is already there"
   ]
  },
  {
   "cell_type": "markdown",
   "id": "798c0c9d",
   "metadata": {},
   "source": [
    "1\\.b Make two new files, one containing the students belonging to PoD, the other to Physics."
   ]
  },
  {
   "cell_type": "markdown",
   "id": "8a43d622",
   "metadata": {},
   "source": [
    "1\\.c For each letter of the alphabet, count the number of students whose surname starts with that letter. "
   ]
  },
  {
   "cell_type": "markdown",
   "id": "4ba6bc90",
   "metadata": {},
   "source": [
    "1\\.d Find out which is the letter with most counts."
   ]
  },
  {
   "cell_type": "markdown",
   "id": "086a043c",
   "metadata": {},
   "source": [
    "1\\.e Assume an obvious numbering of the students in the file (first line is 1, second line is 2, etc.), group students \"modulo 18\", i.e. 1,19,37,.. 2,20,38,.. etc. and put each group in a separate file  "
   ]
  },
  {
   "cell_type": "markdown",
   "metadata": {},
   "source": [
    "```bash\n",
    "# go in home and make directory\n",
    "cd $HOME\n",
    "mkdir students\n",
    "\n",
    "# download file in home\n",
    "if [ ! -f \"./LCP_22-23_students.csv\" ]\n",
    "then\n",
    "    wget https://www.dropbox.com/s/867rtx3az6e9gm8/LCP_22-23_students.csv\n",
    "fi   \n",
    "\n",
    "# check if file is already in students\n",
    "\n",
    "if [ ! -f \"./LCP_22-23_students.csv\" ]\n",
    "then\n",
    "    echo \"the file ./LCP_22-23_students.csv does not exist! \"\n",
    "else\n",
    "    file=./LCP_22-23_students.csv\n",
    "fi\n",
    "\n",
    "# copy the file to students\n",
    "cp LCP_22-23_students.csv students\n",
    "\n",
    "# make two files containing different students\n",
    "grep \"PoD\" LCP_22-23_students.csv > pod.csv\n",
    "grep \"Physics\" LCP_22-23_students.csv > physics.csv\n",
    "\n",
    "# counts how many students' surname begins with each letter of the alphabet\n",
    "# find which letter has more counts\n",
    "n_max=0\n",
    "letter_max=0\n",
    "\n",
    "for letter in {A..Z}; do \n",
    "    n=$(grep -c \"^$letter\" LCP_22-23_students.csv)\n",
    "    echo \"number of students whose surname start with letter $letter is: $n\"\n",
    "\n",
    "    if [ $n -gt $n_max ]; then\n",
    "    \tn_max=$n\n",
    "    \tletter_max=$letter\n",
    "    fi\n",
    "done\n",
    "echo \"the letter that has more counts is $letter_max\"\n",
    "\n",
    "# group students \"modulo 18\", i.e. 1,19,37,.. 2,20,38,.. etc. and put each group in a separate file \n",
    "#n_students=$(wc -l < LCP_22-23_students.csv)    # number of students\n",
    "\n",
    "#awk 'NR > 1 && (NR-1) % 18 == 1 {print $0 > }' LCP_22-23_students.csv\n",
    "\n",
    "# Create a directory to store the output files\n",
    "output_dir=\"students\"\n",
    "mkdir -p \"$output_dir\"\n",
    "\n",
    "# Use awk to group rows modulo 18, skipping the header and redirecting to files\n",
    "awk -v output_dir=\"$output_dir\" '\n",
    "{\n",
    "    if ((NR-1) % 18 == 0) {\n",
    "        close(output_file)\n",
    "        output_file = output_dir \"/Group\" ++i \".csv\"\n",
    "    }\n",
    "    print $0 > output_file\n",
    "}' LCP_22-23_students.csv\n",
    "\n",
    "```"
   ]
  },
  {
   "cell_type": "markdown",
   "id": "1d730d21",
   "metadata": {},
   "source": [
    "### Ex 2"
   ]
  },
  {
   "cell_type": "markdown",
   "id": "4b87ecb7",
   "metadata": {},
   "source": [
    "2.a Make a copy of the file `data.csv` removing the metadata and the commas between numbers; call it `data.txt`"
   ]
  },
  {
   "cell_type": "markdown",
   "id": "344048c8",
   "metadata": {},
   "source": [
    "2\\.b How many even numbers are there?"
   ]
  },
  {
   "cell_type": "markdown",
   "id": "2a27138d",
   "metadata": {},
   "source": [
    "2\\.c Distinguish the entries on the basis of `sqrt(X^2 + Y^2 + Z^2)` is greater or smaller than `100*sqrt(3)/2`. Count the entries of each of the two groups "
   ]
  },
  {
   "cell_type": "markdown",
   "id": "e937ef4e",
   "metadata": {},
   "source": [
    "2\\.d Make `n` copies of data.txt (with `n` an input parameter of the script), where the i-th copy has all the numbers divided by i (with `1<=i<=n`)."
   ]
  },
  {
   "cell_type": "markdown",
   "id": "1a1a765d",
   "metadata": {},
   "source": [
    "``` bash\n",
    "\n",
    "# Make a copy of the file `data.csv` removing the metadata\n",
    "# and the commas between numbers; call it `data.txt`\n",
    "grep -v \"^#\" data.csv | tr ',' ' ' > data.txt\n",
    "\n",
    "# Count even numbers\n",
    "count=0\n",
    "\n",
    "while IFS= read -r line; do\n",
    "    for d in $line; do\n",
    "    \tif (( $d%2==0 )); then count=$((count+1)); fi\n",
    "    done\n",
    "done < data.txt\n",
    "\n",
    "echo \"The number of even numbers is $count\"\n",
    "\n",
    "# Distinguish the entries on the basis of `sqrt(X^2 + Y^2 + Z^2)` is greater or smaller than `100*sqrt(3)/2`.\n",
    "# Count the entries of each of the two groups \n",
    "\n",
    "threshold=$(echo \"100 * sqrt(3) / 2\" | bc -l)\n",
    "greater=0\n",
    "smaller=0\n",
    "\n",
    "while IFS= read -r line; do\n",
    "    # Extracting the first three values from the line\n",
    "    read -r x y z _ _ _ <<< \"$line\"\n",
    "\n",
    "    # Using bc for floating-point arithmetic\n",
    "    s=$(echo \"sqrt($x^2 + $y^2 + $z^2)\" | bc -l)\n",
    "\n",
    "    if (( $(echo \"$s > $threshold\" | bc -l) )); then\n",
    "        greater=$((greater + 1))\n",
    "    else\n",
    "        smaller=$((smaller + 1))\n",
    "    fi\n",
    "done < data.txt\n",
    "\n",
    "echo \"The entries with the value greater are $greater\"\n",
    "echo \"The entries with the value smaller are $smaller\"\n",
    "\n",
    "# Make `n` copies of data.txt (with `n` an input parameter of the script),\n",
    "# where the i-th copy has all the numbers divided by i (with `1<=i<=n`).\n",
    "n=\"$1\"\n",
    "\n",
    "for i in $(seq 1 \"$n\"); do\n",
    "\toutput_file=\"data_copy_$i.txt\"\n",
    "\tawk -v c=\"$i\" '{ for (j = 1; j <= NF; j++) $j = $j / c }1' data.txt > \"$output_file\"\n",
    "done\n",
    "\n",
    "```"
   ]
  }
 ],
 "metadata": {
  "kernelspec": {
   "display_name": "Python 3 (ipykernel)",
   "language": "python",
   "name": "python3"
  },
  "language_info": {
   "codemirror_mode": {
    "name": "ipython",
    "version": 3
   },
   "file_extension": ".py",
   "mimetype": "text/x-python",
   "name": "python",
   "nbconvert_exporter": "python",
   "pygments_lexer": "ipython3",
   "version": "3.9.7"
  }
 },
 "nbformat": 4,
 "nbformat_minor": 5
}
