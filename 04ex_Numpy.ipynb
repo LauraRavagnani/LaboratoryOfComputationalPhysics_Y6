{
 "cells": [
  {
   "cell_type": "markdown",
   "metadata": {},
   "source": [
    "### Numpy basics"
   ]
  },
  {
   "cell_type": "markdown",
   "metadata": {},
   "source": [
    "1\\. Find the row, column and overall means for the following matrix:\n",
    "\n",
    "```python\n",
    "m = np.arange(12).reshape((3,4))\n",
    "```"
   ]
  },
  {
   "cell_type": "code",
   "execution_count": 97,
   "metadata": {},
   "outputs": [],
   "source": [
    "import numpy as np\n",
    "import numpy.random as npr\n",
    "import math\n",
    "import matplotlib.pyplot as plt"
   ]
  },
  {
   "cell_type": "code",
   "execution_count": 10,
   "metadata": {},
   "outputs": [
    {
     "name": "stdout",
     "output_type": "stream",
     "text": [
      "[[ 0  1  2  3]\n",
      " [ 4  5  6  7]\n",
      " [ 8  9 10 11]]\n",
      "means of every row: [1.5, 5.5, 9.5]\n",
      "means of every column: [4.0, 5.0, 6.0, 7.0]\n",
      "overall mean: 5.5\n"
     ]
    }
   ],
   "source": [
    "m = np.arange(12).reshape((3,4))\n",
    "print(m)\n",
    "\n",
    "row_mean = [m[i,:].mean() for i in range(m.shape[0])]\n",
    "col_mean = [m[:,i].mean() for i in range(m.shape[1])]\n",
    "mean = m.mean()\n",
    "\n",
    "print(\"means of every row:\", row_mean)\n",
    "print(\"means of every column:\", col_mean)\n",
    "print(\"overall mean:\", mean)"
   ]
  },
  {
   "cell_type": "markdown",
   "metadata": {},
   "source": [
    "2\\. Find the outer product of the following two vecotrs\n",
    "\n",
    "```python\n",
    "u = np.array([1,3,5,7])\n",
    "v = np.array([2,4,6,8])\n",
    "```\n",
    "\n",
    "Do this in the following ways:\n",
    "\n",
    "   * Using the function outer in numpy\n",
    "   * Using a nested for loop or list comprehension\n",
    "   * Using numpy broadcasting operatoins\n"
   ]
  },
  {
   "cell_type": "code",
   "execution_count": 36,
   "metadata": {},
   "outputs": [
    {
     "name": "stdout",
     "output_type": "stream",
     "text": [
      "[[ 2  4  6  8]\n",
      " [ 6 12 18 24]\n",
      " [10 20 30 40]\n",
      " [14 28 42 56]]\n",
      "[[ 2  4  6  8]\n",
      " [ 6 12 18 24]\n",
      " [10 20 30 40]\n",
      " [14 28 42 56]]\n",
      "[[ 2  4  6  8]\n",
      " [ 6 12 18 24]\n",
      " [10 20 30 40]\n",
      " [14 28 42 56]]\n"
     ]
    }
   ],
   "source": [
    "u = np.array([1, 3, 5, 7])\n",
    "v = np.array([2, 4, 6, 8])\n",
    "\n",
    "# using outer function\n",
    "print(np.outer(u, v))\n",
    "\n",
    "# using list comprehension\n",
    "out = np.array([[u[i] * v[j] for j in range(u.shape[0])] for i in range(u.shape[0])])\n",
    "out.reshape((4, 4))\n",
    "print(out)\n",
    "\n",
    "# using numpy broadcasting operations\n",
    "u_col = u[:, None]\n",
    "print(u_col * v)"
   ]
  },
  {
   "cell_type": "markdown",
   "metadata": {},
   "source": [
    "3\\. Create a 10 by 6 matrix of random uniform numbers. Set all rows with any entry less than 0.1 to be zero\n",
    "\n",
    "Hint: Use the following numpy functions - np.random.random, np.any as well as Boolean indexing and the axis argument."
   ]
  },
  {
   "cell_type": "code",
   "execution_count": 50,
   "metadata": {},
   "outputs": [
    {
     "name": "stdout",
     "output_type": "stream",
     "text": [
      "[[0.66713293 0.9233223  0.05187169 0.12937046 0.40585113 0.17914815]\n",
      " [0.10893187 0.13567237 0.7963193  0.31746501 0.50831401 0.81756171]\n",
      " [0.36272542 0.95446006 0.61694795 0.01595853 0.90620243 0.18155185]\n",
      " [0.06621427 0.94172841 0.98620345 0.20993912 0.04041102 0.47732773]\n",
      " [0.43930752 0.89968742 0.64479381 0.87985553 0.82121485 0.72224048]\n",
      " [0.64657719 0.67611286 0.9428519  0.69249995 0.33685307 0.99986167]\n",
      " [0.80015263 0.36020146 0.54895336 0.68133922 0.90150237 0.86683069]\n",
      " [0.52819146 0.37263054 0.78044253 0.09395801 0.41732107 0.80031091]\n",
      " [0.1415522  0.00157379 0.86964683 0.66130716 0.04864905 0.5728143 ]\n",
      " [0.55234273 0.80868378 0.03939247 0.02420957 0.6459398  0.90432717]]\n",
      "[[0.         0.         0.         0.         0.         0.        ]\n",
      " [0.10893187 0.13567237 0.7963193  0.31746501 0.50831401 0.81756171]\n",
      " [0.         0.         0.         0.         0.         0.        ]\n",
      " [0.         0.         0.         0.         0.         0.        ]\n",
      " [0.43930752 0.89968742 0.64479381 0.87985553 0.82121485 0.72224048]\n",
      " [0.64657719 0.67611286 0.9428519  0.69249995 0.33685307 0.99986167]\n",
      " [0.80015263 0.36020146 0.54895336 0.68133922 0.90150237 0.86683069]\n",
      " [0.         0.         0.         0.         0.         0.        ]\n",
      " [0.         0.         0.         0.         0.         0.        ]\n",
      " [0.         0.         0.         0.         0.         0.        ]]\n"
     ]
    }
   ],
   "source": [
    "a = npr.rand(10, 6)\n",
    "print(a)\n",
    "\n",
    "a[(a < 0.1).any(axis=1), :] = 0\n",
    "print(a)"
   ]
  },
  {
   "cell_type": "markdown",
   "metadata": {},
   "source": [
    "4\\. Use np.linspace to create an array of 100 numbers between 0 and 2π (includsive).\n",
    "\n",
    "  * Extract every 10th element using slice notation\n",
    "  * Reverse the array using slice notation\n",
    "  * Extract elements where the absolute difference between the sine and cosine functions evaluated at that element is less than 0.1\n",
    "  * Make a plot showing the sin and cos functions and indicate where they are close"
   ]
  },
  {
   "cell_type": "code",
   "execution_count": 138,
   "metadata": {},
   "outputs": [
    {
     "name": "stdout",
     "output_type": "stream",
     "text": [
      "[0.         0.06346652 0.12693304 0.19039955 0.25386607 0.31733259\n",
      " 0.38079911 0.44426563 0.50773215 0.57119866 0.63466518 0.6981317\n",
      " 0.76159822 0.82506474 0.88853126 0.95199777 1.01546429 1.07893081\n",
      " 1.14239733 1.20586385 1.26933037 1.33279688 1.3962634  1.45972992\n",
      " 1.52319644 1.58666296 1.65012947 1.71359599 1.77706251 1.84052903\n",
      " 1.90399555 1.96746207 2.03092858 2.0943951  2.15786162 2.22132814\n",
      " 2.28479466 2.34826118 2.41172769 2.47519421 2.53866073 2.60212725\n",
      " 2.66559377 2.72906028 2.7925268  2.85599332 2.91945984 2.98292636\n",
      " 3.04639288 3.10985939 3.17332591 3.23679243 3.30025895 3.36372547\n",
      " 3.42719199 3.4906585  3.55412502 3.61759154 3.68105806 3.74452458\n",
      " 3.8079911  3.87145761 3.93492413 3.99839065 4.06185717 4.12532369\n",
      " 4.1887902  4.25225672 4.31572324 4.37918976 4.44265628 4.5061228\n",
      " 4.56958931 4.63305583 4.69652235 4.75998887 4.82345539 4.88692191\n",
      " 4.95038842 5.01385494 5.07732146 5.14078798 5.2042545  5.26772102\n",
      " 5.33118753 5.39465405 5.45812057 5.52158709 5.58505361 5.64852012\n",
      " 5.71198664 5.77545316 5.83891968 5.9023862  5.96585272 6.02931923\n",
      " 6.09278575 6.15625227 6.21971879 6.28318531] \n",
      "\n",
      "[0.         0.63466518 1.26933037 1.90399555 2.53866073 3.17332591\n",
      " 3.8079911  4.44265628 5.07732146 5.71198664] \n",
      "\n",
      "[5.71198664 5.07732146 4.44265628 3.8079911  3.17332591 2.53866073\n",
      " 1.90399555 1.26933037 0.63466518 0.        ] \n",
      "\n"
     ]
    },
    {
     "data": {
      "text/plain": [
       "[<matplotlib.lines.Line2D at 0x7ff4c1aaf460>,\n",
       " <matplotlib.lines.Line2D at 0x7ff4c1aaf5b0>,\n",
       " <matplotlib.lines.Line2D at 0x7ff4c1aaf490>,\n",
       " <matplotlib.lines.Line2D at 0x7ff4c1aaf760>]"
      ]
     },
     "execution_count": 138,
     "metadata": {},
     "output_type": "execute_result"
    },
    {
     "data": {
      "image/png": "[encoded data removed]",
      "text/plain": [
       "<Figure size 432x288 with 1 Axes>"
      ]
     },
     "metadata": {
      "needs_background": "light"
     },
     "output_type": "display_data"
    }
   ],
   "source": [
    "a = np.linspace(0, 2*math.pi, 100)\n",
    "print(a, '\\n')\n",
    "\n",
    "slice1= [i for i in range(0, a.shape[0], 10)]\n",
    "b = a[slice1]\n",
    "print(b, '\\n')\n",
    "\n",
    "slice2= [i for i in range(b.shape[0]-1, -1, -1)]\n",
    "c = b[slice2]\n",
    "print(c, '\\n')\n",
    "\n",
    "mask = [(abs(math.sin(a[i]) - math.cos(a[i])) < 0.1) for i in range(a.shape[0])]\n",
    "a_mask = a[mask]\n",
    "\n",
    "sin = [math.sin(a[i]) for i in range(a.shape[0])]\n",
    "cos = [math.cos(a[i]) for i in range(a.shape[0])]\n",
    "x = np.array(range(100))\n",
    "x_mask = x[mask]\n",
    "sin_mask = [math.sin(a_mask[i]) for i in range(a_mask.shape[0])]\n",
    "cos_mask = [math.cos(a_mask[i]) for i in range(a_mask.shape[0])]\n",
    "\n",
    "plt.plot(x, sin, x, cos, x_mask, sin_mask, 'ro', x_mask, cos_mask, 'ro')\n"
   ]
  },
  {
   "cell_type": "markdown",
   "metadata": {},
   "source": [
    "5\\. Create a matrix that shows the 10 by 10 multiplication table.\n",
    "\n",
    " * Find the trace of the matrix\n",
    " * Extract the anto-diagonal (this should be ```array([10, 18, 24, 28, 30, 30, 28, 24, 18, 10])```)\n",
    " * Extract the diagnoal offset by 1 upwards (this should be ```array([ 2,  6, 12, 20, 30, 42, 56, 72, 90])```)"
   ]
  },
  {
   "cell_type": "code",
   "execution_count": 128,
   "metadata": {},
   "outputs": [
    {
     "name": "stdout",
     "output_type": "stream",
     "text": [
      "[[  1   2   3   4   5   6   7   8   9  10]\n",
      " [  2   4   6   8  10  12  14  16  18  20]\n",
      " [  3   6   9  12  15  18  21  24  27  30]\n",
      " [  4   8  12  16  20  24  28  32  36  40]\n",
      " [  5  10  15  20  25  30  35  40  45  50]\n",
      " [  6  12  18  24  30  36  42  48  54  60]\n",
      " [  7  14  21  28  35  42  49  56  63  70]\n",
      " [  8  16  24  32  40  48  56  64  72  80]\n",
      " [  9  18  27  36  45  54  63  72  81  90]\n",
      " [ 10  20  30  40  50  60  70  80  90 100]] \n",
      "\n",
      "385 \n",
      "\n",
      "[10, 18, 24, 28, 30, 30, 28, 24, 18, 10] \n",
      "\n",
      "[2, 6, 12, 20, 30, 42, 56, 72, 90]\n"
     ]
    }
   ],
   "source": [
    "m = np.array([[i * j for i in range(1, 11)] for j in range(1, 11)])\n",
    "print(m, '\\n')\n",
    "\n",
    "trace = sum([m[i,i] for i in range(m.shape[0])])\n",
    "print(trace, '\\n')\n",
    "\n",
    "ant_diag = [m[i,j] for i,j in zip(range(m.shape[0]), range(m.shape[0]-1, -1, -1))]\n",
    "print(ant_diag, '\\n')\n",
    "\n",
    "diag2 = [m[i, i+1] for i in range(m.shape[0]-1)]\n",
    "print(diag2)"
   ]
  },
  {
   "cell_type": "markdown",
   "metadata": {},
   "source": [
    "6\\. Use broadcasting to create a grid of distances\n",
    "\n",
    "Route 66 crosses the following cities in the US: Chicago, Springfield, Saint-Louis, Tulsa, Oklahoma City, Amarillo, Santa Fe, Albuquerque, Flagstaff, Los Angeles\n",
    "The corresponding positions in miles are: 0, 198, 303, 736, 871, 1175, 1475, 1544, 1913, 2448\n",
    "\n",
    "  * Construct a 2D grid of distances among each city along Route 66\n",
    "  * Convert that in km (those savages...)"
   ]
  },
  {
   "cell_type": "code",
   "execution_count": 139,
   "metadata": {},
   "outputs": [
    {
     "name": "stdout",
     "output_type": "stream",
     "text": [
      "[[   0.          198.          303.          736.          871.\n",
      "  1175.         1475.         1544.         1913.         2448.        ]\n",
      " [ 198.          280.01428535  361.95717979  762.16796049  893.221697\n",
      "  1191.56577661 1488.23015693 1556.64382567 1923.21943626 2455.99429967]\n",
      " [ 303.          361.95717979  428.5067094   795.93027333  922.1984602\n",
      "  1213.43891482 1505.80011954 1573.45003098 1936.84743849 2466.68056302]\n",
      " [ 736.          762.16796049  795.93027333 1040.86118191 1140.3231998\n",
      "  1386.47791183 1648.42985899 1710.44789456 2049.69875835 2556.24724939]\n",
      " [ 871.          893.221697    922.1984602  1140.3231998  1231.78001283\n",
      "  1462.62298628 1712.96993552 1772.73150815 2101.95385297 2598.33504383]\n",
      " [1175.         1191.56577661 1213.43891482 1386.47791183 1462.62298628\n",
      "  1661.70093579 1885.80221656 1940.2476646  2245.03763888 2715.38744933]\n",
      " [1475.         1488.23015693 1505.80011954 1648.42985899 1712.96993552\n",
      "  1885.80221656 2085.9650045  2135.31285764 2415.61462158 2858.02886619]\n",
      " [1544.         1556.64382567 1573.45003098 1710.44789456 1772.73150815\n",
      "  1940.2476646  2135.31285764 2183.5457403  2458.35412421 2894.24256067]\n",
      " [1913.         1923.21943626 1936.84743849 2049.69875835 2101.95385297\n",
      "  2245.03763888 2415.61462158 2458.35412421 2705.39054482 3106.81074416]\n",
      " [2448.         2455.99429967 2466.68056302 2556.24724939 2598.33504383\n",
      "  2715.38744933 2858.02886619 2894.24256067 3106.81074416 3461.99480069]] \n",
      "\n",
      "[[   0.          318.64932     487.63002    1184.47424    1401.73514\n",
      "  1890.9745     2373.7765     2484.82096    3078.66742    3939.66432   ]\n",
      " [ 318.64932     450.63818998  582.51216772 1226.58738554 1437.49740586\n",
      "  1917.63446694 2395.06832076 2505.16917441 3095.11396755 3952.52986623]\n",
      " [ 487.63002     582.51216772  689.6129877  1280.92242608 1484.13086994\n",
      "  1952.83578318 2423.34436438 2532.21607286 3117.04605667 3969.7276973 ]\n",
      " [1184.47424    1226.58738554 1280.92242608 1675.09953449 1835.16773836\n",
      "  2231.31436263 2652.88410926 2752.69221463 3298.66219977 4113.87094833]\n",
      " [1401.73514    1437.49740586 1484.13086994 1835.16773836 1982.35284584\n",
      "  2353.85767674 2756.75103603 2852.92772533 3382.75841373 4181.60451944]\n",
      " [1890.9745     1917.63446694 1952.83578318 2231.31436263 2353.85767674\n",
      "  2674.241784   3034.89693921 3122.51817655 3613.02887376 4369.98163771]\n",
      " [2373.7765     2395.06832076 2423.34436438 2652.88410926 2756.75103603\n",
      "  3034.89693921 3357.02692034 3436.44439431 3887.5452351  4599.54017552]\n",
      " [2484.82096    2505.16917441 2532.21607286 2752.69221463 2852.92772533\n",
      "  3122.51817655 3436.44439431 3514.0675017  3956.32762625 4657.82032259]\n",
      " [3078.66742    3095.11396755 3117.04605667 3298.66219977 3382.75841373\n",
      "  3613.02887376 3887.5452351  3956.32762625 4353.8932194  4999.914803  ]\n",
      " [3939.66432    3952.52986623 3969.7276973  4113.87094833 4181.60451944\n",
      "  4369.98163771 4599.54017552 4657.82032259 4999.914803   5571.52671254]]\n"
     ]
    }
   ],
   "source": [
    "#cities = np.array(Chicago, Springfield, Saint-Louis, Tulsa, Oklahoma-City, Amarillo, Santa-Fe, Albuquerque, Flagstaff, Los-Angeles)\n",
    "positions = [0, 198, 303, 736, 871, 1175, 1475, 1544, 1913, 2448]\n",
    "\n",
    "def dist(x, y):\n",
    "    d = math.sqrt(x**2 + y**2)\n",
    "    return d\n",
    "\n",
    "dist = np.array([[dist(i, j) for i in positions] for j in positions])\n",
    "print(dist, '\\n')\n",
    "\n",
    "dist_km = dist * 1.60934\n",
    "print(dist_km)"
   ]
  },
  {
   "cell_type": "markdown",
   "metadata": {},
   "source": [
    "7\\. Prime numbers sieve: compute the prime numbers in the 0-N (N=99 to start with) range with a sieve (mask).\n",
    "  * Constract a shape (100,) boolean array, the mask\n",
    "  * Identify the multiples of each number starting from 2 and set accordingly the corresponding mask element\n",
    "  * Apply the mask to obtain an array of ordered prime numbers\n",
    "  * Check the performances (timeit); how does it scale with N?\n",
    "  * Implement the optimization suggested in the [sieve of Eratosthenes](https://en.wikipedia.org/wiki/Sieve_of_Eratosthenes)"
   ]
  },
  {
   "cell_type": "code",
   "execution_count": 151,
   "metadata": {},
   "outputs": [
    {
     "name": "stdout",
     "output_type": "stream",
     "text": [
      "[ 2  3  5  7 11 13 17 19 23 29 31 37 41 43 47 53 59 61 67 71 73 79 83 89\n",
      " 97]\n"
     ]
    }
   ],
   "source": [
    "N = 100\n",
    "a = np.array(range(0, N))\n",
    "\n",
    "def sieve(n):   # eratosthenes algorithm\n",
    "    mask = [True for i in a]\n",
    "    mask[0] = mask[1] = False   # 0 and 1 are not prime numbers\n",
    "    for i in range(2, int(n**0.5)+1):\n",
    "        if mask[i]:\n",
    "            for j in range(i*i, n, i):\n",
    "                mask[j] = False\n",
    "    return mask\n",
    "\n",
    "print(a[sieve(N)])"
   ]
  },
  {
   "cell_type": "markdown",
   "metadata": {},
   "source": [
    "**N.B. the following exercises are meant to be solved only if you are familiar with the numpy random library. If not you can skip them (postponed for one of the next exercise sessions)**\n"
   ]
  },
  {
   "cell_type": "markdown",
   "metadata": {},
   "source": [
    "8\\. Diffusion using random walk\n",
    "\n",
    "Consider a simple random walk process: at each step in time, a walker jumps right or left (+1 or -1) with equal probability. The goal is to find the typical distance from the origin of a random walker after a given amount of time. \n",
    "To do that, let's simulate many walkers and create a 2D array with each walker as a raw and the actual time evolution as columns\n",
    "\n",
    "  * Take 1000 walkers and let them walk for 200 steps\n",
    "  * Use randint to create a 2D array of size walkers x steps with values -1 or 1\n",
    "  * Build the actual walking distances for each walker (i.e. another 2D array \"summing on each raw\")\n",
    "  * Take the square of that 2D array (elementwise)\n",
    "  * Compute the mean of the squared distances at each step (i.e. the mean along the columns)\n",
    "  * Plot the average distances (sqrt(distance\\*\\*2)) as a function of time (step)\n",
    "  \n",
    "Did you get what you expected?"
   ]
  },
  {
   "cell_type": "markdown",
   "metadata": {},
   "source": [
    "9\\. Analyze a data file \n",
    "  * Download the population of hares, lynxes and carrots at the beginning of the last century.\n",
    "    ```python\n",
    "    ! wget https://www.dropbox.com/s/3vigxoqayo389uc/populations.txt\n",
    "    ```\n",
    "\n",
    "  * Check the content by looking within the file\n",
    "  * Load the data (use an appropriate numpy method) into a 2D array\n",
    "  * Create arrays out of the columns, the arrays being (in order): *year*, *hares*, *lynxes*, *carrots* \n",
    "  * Plot the 3 populations over the years\n",
    "  * Compute the main statistical properties of the dataset (mean, std, correlations, etc.)\n",
    "  * Which species has the highest population each year?\n",
    "\n",
    "Do you feel there is some evident correlation here? [Studies](https://www.enr.gov.nt.ca/en/services/lynx/lynx-snowshoe-hare-cycle) tend to believe so."
   ]
  }
 ],
 "metadata": {
  "kernelspec": {
   "display_name": "Python 3 (ipykernel)",
   "language": "python",
   "name": "python3"
  },
  "language_info": {
   "codemirror_mode": {
    "name": "ipython",
    "version": 3
   },
   "file_extension": ".py",
   "mimetype": "text/x-python",
   "name": "python",
   "nbconvert_exporter": "python",
   "pygments_lexer": "ipython3",
   "version": "3.9.7"
  }
 },
 "nbformat": 4,
 "nbformat_minor": 2
}
