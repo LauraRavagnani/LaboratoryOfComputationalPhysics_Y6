{
 "cells": [
  {
   "cell_type": "markdown",
   "metadata": {},
   "source": [
    "### Numpy basics"
   ]
  },
  {
   "cell_type": "markdown",
   "metadata": {},
   "source": [
    "1\\. Find the row, column and overall means for the following matrix:\n",
    "\n",
    "```python\n",
    "m = np.arange(12).reshape((3,4))\n",
    "```"
   ]
  },
  {
   "cell_type": "code",
   "execution_count": 1,
   "metadata": {},
   "outputs": [],
   "source": [
    "import numpy as np\n",
    "import numpy.random as npr\n",
    "import math\n",
    "import matplotlib.pyplot as plt"
   ]
  },
  {
   "cell_type": "code",
   "execution_count": 10,
   "metadata": {},
   "outputs": [
    {
     "name": "stdout",
     "output_type": "stream",
     "text": [
      "[[ 0  1  2  3]\n",
      " [ 4  5  6  7]\n",
      " [ 8  9 10 11]]\n",
      "means of every row: [1.5 5.5 9.5]\n",
      "means of every column: [4. 5. 6. 7.]\n",
      "overall mean: 5.5\n"
     ]
    }
   ],
   "source": [
    "m = np.arange(12).reshape((3,4))\n",
    "print(m)\n",
    "\n",
    "row_mean = np.mean(m, axis = 1)\n",
    "col_mean = np.mean(m, axis = 0)\n",
    "mean = np.mean(m)\n",
    "\n",
    "print(\"means of every row:\", row_mean)\n",
    "print(\"means of every column:\", col_mean)\n",
    "print(\"overall mean:\", mean)"
   ]
  },
  {
   "cell_type": "markdown",
   "metadata": {},
   "source": [
    "2\\. Find the outer product of the following two vecotrs\n",
    "\n",
    "```python\n",
    "u = np.array([1,3,5,7])\n",
    "v = np.array([2,4,6,8])\n",
    "```\n",
    "\n",
    "Do this in the following ways:\n",
    "\n",
    "   * Using the function outer in numpy\n",
    "   * Using a nested for loop or list comprehension\n",
    "   * Using numpy broadcasting operatoins\n"
   ]
  },
  {
   "cell_type": "code",
   "execution_count": 15,
   "metadata": {},
   "outputs": [
    {
     "name": "stdout",
     "output_type": "stream",
     "text": [
      "[[ 2  4  6  8]\n",
      " [ 6 12 18 24]\n",
      " [10 20 30 40]\n",
      " [14 28 42 56]]\n",
      "[[ 2  4  6  8]\n",
      " [ 6 12 18 24]\n",
      " [10 20 30 40]\n",
      " [14 28 42 56]]\n",
      "[[ 2  4  6  8]\n",
      " [ 6 12 18 24]\n",
      " [10 20 30 40]\n",
      " [14 28 42 56]]\n"
     ]
    }
   ],
   "source": [
    "u = np.array([1, 3, 5, 7])\n",
    "v = np.array([2, 4, 6, 8])\n",
    "\n",
    "# using outer function\n",
    "print(np.outer(u, v))\n",
    "\n",
    "# using list comprehension\n",
    "out = np.array([[u[i] * v[j] for j in range(u.shape[0])] for i in range(u.shape[0])])\n",
    "out.reshape((4, 4))\n",
    "print(out)\n",
    "\n",
    "# using numpy broadcasting operations\n",
    "u_col = u[:, None]\n",
    "print(u_col * v)"
   ]
  },
  {
   "cell_type": "markdown",
   "metadata": {},
   "source": [
    "3\\. Create a 10 by 6 matrix of random uniform numbers. Set all rows with any entry less than 0.1 to be zero\n",
    "\n",
    "Hint: Use the following numpy functions - np.random.random, np.any as well as Boolean indexing and the axis argument."
   ]
  },
  {
   "cell_type": "code",
   "execution_count": 19,
   "metadata": {},
   "outputs": [
    {
     "name": "stdout",
     "output_type": "stream",
     "text": [
      "[[0.84469023 0.1614752  0.37919299 0.0994066  0.30166151 0.35198784]\n",
      " [0.16111655 0.91883957 0.37563448 0.88322468 0.7879519  0.62465686]\n",
      " [0.1074484  0.86822232 0.11345682 0.36907353 0.70373912 0.39298217]\n",
      " [0.8010498  0.84762251 0.21986592 0.96068805 0.41184755 0.17059981]\n",
      " [0.68646918 0.43329726 0.83765335 0.3404519  0.42475169 0.38275179]\n",
      " [0.72516097 0.82700947 0.38494806 0.30126033 0.59326954 0.43914673]\n",
      " [0.52578054 0.83404529 0.27667762 0.52664843 0.56194092 0.90892652]\n",
      " [0.94451215 0.79725675 0.87856413 0.42235353 0.86294378 0.56614827]\n",
      " [0.32206946 0.23522489 0.11749035 0.66985167 0.783253   0.27800466]\n",
      " [0.96158021 0.15208914 0.58731921 0.90593362 0.1960472  0.67325711]] \n",
      "\n",
      "[[0.         0.         0.         0.         0.         0.        ]\n",
      " [0.16111655 0.91883957 0.37563448 0.88322468 0.7879519  0.62465686]\n",
      " [0.1074484  0.86822232 0.11345682 0.36907353 0.70373912 0.39298217]\n",
      " [0.8010498  0.84762251 0.21986592 0.96068805 0.41184755 0.17059981]\n",
      " [0.68646918 0.43329726 0.83765335 0.3404519  0.42475169 0.38275179]\n",
      " [0.72516097 0.82700947 0.38494806 0.30126033 0.59326954 0.43914673]\n",
      " [0.52578054 0.83404529 0.27667762 0.52664843 0.56194092 0.90892652]\n",
      " [0.94451215 0.79725675 0.87856413 0.42235353 0.86294378 0.56614827]\n",
      " [0.32206946 0.23522489 0.11749035 0.66985167 0.783253   0.27800466]\n",
      " [0.96158021 0.15208914 0.58731921 0.90593362 0.1960472  0.67325711]]\n"
     ]
    }
   ],
   "source": [
    "np.random.seed(2104271)\n",
    "a = npr.rand(10, 6)\n",
    "print(a, '\\n')\n",
    "\n",
    "a[(a < 0.1).any(axis=1)] = 0\n",
    "print(a)"
   ]
  },
  {
   "cell_type": "markdown",
   "metadata": {},
   "source": [
    "4\\. Use np.linspace to create an array of 100 numbers between 0 and 2π (includsive).\n",
    "\n",
    "  * Extract every 10th element using slice notation\n",
    "  * Reverse the array using slice notation\n",
    "  * Extract elements where the absolute difference between the sine and cosine functions evaluated at that element is less than 0.1\n",
    "  * Make a plot showing the sin and cos functions and indicate where they are close"
   ]
  },
  {
   "cell_type": "code",
   "execution_count": 21,
   "metadata": {},
   "outputs": [
    {
     "name": "stdout",
     "output_type": "stream",
     "text": [
      "[0.         0.06346652 0.12693304 0.19039955 0.25386607 0.31733259\n",
      " 0.38079911 0.44426563 0.50773215 0.57119866 0.63466518 0.6981317\n",
      " 0.76159822 0.82506474 0.88853126 0.95199777 1.01546429 1.07893081\n",
      " 1.14239733 1.20586385 1.26933037 1.33279688 1.3962634  1.45972992\n",
      " 1.52319644 1.58666296 1.65012947 1.71359599 1.77706251 1.84052903\n",
      " 1.90399555 1.96746207 2.03092858 2.0943951  2.15786162 2.22132814\n",
      " 2.28479466 2.34826118 2.41172769 2.47519421 2.53866073 2.60212725\n",
      " 2.66559377 2.72906028 2.7925268  2.85599332 2.91945984 2.98292636\n",
      " 3.04639288 3.10985939 3.17332591 3.23679243 3.30025895 3.36372547\n",
      " 3.42719199 3.4906585  3.55412502 3.61759154 3.68105806 3.74452458\n",
      " 3.8079911  3.87145761 3.93492413 3.99839065 4.06185717 4.12532369\n",
      " 4.1887902  4.25225672 4.31572324 4.37918976 4.44265628 4.5061228\n",
      " 4.56958931 4.63305583 4.69652235 4.75998887 4.82345539 4.88692191\n",
      " 4.95038842 5.01385494 5.07732146 5.14078798 5.2042545  5.26772102\n",
      " 5.33118753 5.39465405 5.45812057 5.52158709 5.58505361 5.64852012\n",
      " 5.71198664 5.77545316 5.83891968 5.9023862  5.96585272 6.02931923\n",
      " 6.09278575 6.15625227 6.21971879 6.28318531] \n",
      "\n",
      "[0.         0.63466518 1.26933037 1.90399555 2.53866073 3.17332591\n",
      " 3.8079911  4.44265628 5.07732146 5.71198664] \n",
      "\n",
      "[5.71198664 5.07732146 4.44265628 3.8079911  3.17332591 2.53866073\n",
      " 1.90399555 1.26933037 0.63466518 0.        ] \n",
      "\n"
     ]
    },
    {
     "data": {
      "text/plain": [
       "[<matplotlib.lines.Line2D at 0x7fd28325daf0>,\n",
       " <matplotlib.lines.Line2D at 0x7fd28325dc40>,\n",
       " <matplotlib.lines.Line2D at 0x7fd28325db20>,\n",
       " <matplotlib.lines.Line2D at 0x7fd28325ddf0>]"
      ]
     },
     "execution_count": 21,
     "metadata": {},
     "output_type": "execute_result"
    },
    {
     "data": {
      "image/png": "[encoded data removed]",
      "text/plain": [
       "<Figure size 432x288 with 1 Axes>"
      ]
     },
     "metadata": {
      "needs_background": "light"
     },
     "output_type": "display_data"
    }
   ],
   "source": [
    "a = np.linspace(0, 2*math.pi, 100)\n",
    "print(a, '\\n')\n",
    "\n",
    "slice1= [i for i in range(0, a.shape[0], 10)]\n",
    "b = a[slice1]\n",
    "print(b, '\\n')\n",
    "\n",
    "slice2= [i for i in range(b.shape[0]-1, -1, -1)]\n",
    "c = b[slice2]\n",
    "print(c, '\\n')\n",
    "\n",
    "mask = [(abs(math.sin(a[i]) - math.cos(a[i])) < 0.1) for i in range(a.shape[0])]\n",
    "a_mask = a[mask]\n",
    "\n",
    "sin = [math.sin(a[i]) for i in range(a.shape[0])]\n",
    "cos = [math.cos(a[i]) for i in range(a.shape[0])]\n",
    "x = np.array(range(100))\n",
    "x_mask = x[mask]\n",
    "sin_mask = [math.sin(a_mask[i]) for i in range(a_mask.shape[0])]\n",
    "cos_mask = [math.cos(a_mask[i]) for i in range(a_mask.shape[0])]\n",
    "\n",
    "plt.plot(x, sin, x, cos, x_mask, sin_mask, 'ro', x_mask, cos_mask, 'ro')\n"
   ]
  },
  {
   "cell_type": "markdown",
   "metadata": {},
   "source": [
    "5\\. Create a matrix that shows the 10 by 10 multiplication table.\n",
    "\n",
    " * Find the trace of the matrix\n",
    " * Extract the anto-diagonal (this should be ```array([10, 18, 24, 28, 30, 30, 28, 24, 18, 10])```)\n",
    " * Extract the diagnoal offset by 1 upwards (this should be ```array([ 2,  6, 12, 20, 30, 42, 56, 72, 90])```)"
   ]
  },
  {
   "cell_type": "code",
   "execution_count": 22,
   "metadata": {},
   "outputs": [
    {
     "name": "stdout",
     "output_type": "stream",
     "text": [
      "[[  1   2   3   4   5   6   7   8   9  10]\n",
      " [  2   4   6   8  10  12  14  16  18  20]\n",
      " [  3   6   9  12  15  18  21  24  27  30]\n",
      " [  4   8  12  16  20  24  28  32  36  40]\n",
      " [  5  10  15  20  25  30  35  40  45  50]\n",
      " [  6  12  18  24  30  36  42  48  54  60]\n",
      " [  7  14  21  28  35  42  49  56  63  70]\n",
      " [  8  16  24  32  40  48  56  64  72  80]\n",
      " [  9  18  27  36  45  54  63  72  81  90]\n",
      " [ 10  20  30  40  50  60  70  80  90 100]] \n",
      "\n",
      "385 \n",
      "\n",
      "[10, 18, 24, 28, 30, 30, 28, 24, 18, 10] \n",
      "\n",
      "[2, 6, 12, 20, 30, 42, 56, 72, 90]\n"
     ]
    }
   ],
   "source": [
    "m = np.array([[i * j for i in range(1, 11)] for j in range(1, 11)])\n",
    "print(m, '\\n')\n",
    "\n",
    "trace = np.trace(m)\n",
    "print(trace, '\\n')\n",
    "\n",
    "ant_diag = [m[i,j] for i,j in zip(range(m.shape[0]), range(m.shape[0]-1, -1, -1))]\n",
    "print(ant_diag, '\\n')\n",
    "\n",
    "diag2 = [m[i, i+1] for i in range(m.shape[0]-1)]\n",
    "print(diag2)"
   ]
  },
  {
   "cell_type": "markdown",
   "metadata": {},
   "source": [
    "6\\. Use broadcasting to create a grid of distances\n",
    "\n",
    "Route 66 crosses the following cities in the US: Chicago, Springfield, Saint-Louis, Tulsa, Oklahoma City, Amarillo, Santa Fe, Albuquerque, Flagstaff, Los Angeles\n",
    "The corresponding positions in miles are: 0, 198, 303, 736, 871, 1175, 1475, 1544, 1913, 2448\n",
    "\n",
    "  * Construct a 2D grid of distances among each city along Route 66\n",
    "  * Convert that in km (those savages...)"
   ]
  },
  {
   "cell_type": "code",
   "execution_count": 30,
   "metadata": {},
   "outputs": [
    {
     "name": "stdout",
     "output_type": "stream",
     "text": [
      "[[   0.          198.          303.          736.          871.\n",
      "  1175.         1475.         1544.         1913.         2448.        ]\n",
      " [ 198.          280.01428535  361.95717979  762.16796049  893.221697\n",
      "  1191.56577661 1488.23015693 1556.64382567 1923.21943626 2455.99429967]\n",
      " [ 303.          361.95717979  428.5067094   795.93027333  922.1984602\n",
      "  1213.43891482 1505.80011954 1573.45003098 1936.84743849 2466.68056302]\n",
      " [ 736.          762.16796049  795.93027333 1040.86118191 1140.3231998\n",
      "  1386.47791183 1648.42985899 1710.44789456 2049.69875835 2556.24724939]\n",
      " [ 871.          893.221697    922.1984602  1140.3231998  1231.78001283\n",
      "  1462.62298628 1712.96993552 1772.73150815 2101.95385297 2598.33504383]\n",
      " [1175.         1191.56577661 1213.43891482 1386.47791183 1462.62298628\n",
      "  1661.70093579 1885.80221656 1940.2476646  2245.03763888 2715.38744933]\n",
      " [1475.         1488.23015693 1505.80011954 1648.42985899 1712.96993552\n",
      "  1885.80221656 2085.9650045  2135.31285764 2415.61462158 2858.02886619]\n",
      " [1544.         1556.64382567 1573.45003098 1710.44789456 1772.73150815\n",
      "  1940.2476646  2135.31285764 2183.5457403  2458.35412421 2894.24256067]\n",
      " [1913.         1923.21943626 1936.84743849 2049.69875835 2101.95385297\n",
      "  2245.03763888 2415.61462158 2458.35412421 2705.39054482 3106.81074416]\n",
      " [2448.         2455.99429967 2466.68056302 2556.24724939 2598.33504383\n",
      "  2715.38744933 2858.02886619 2894.24256067 3106.81074416 3461.99480069]] \n",
      "\n",
      "[[   0.          318.64932     487.63002    1184.47424    1401.73514\n",
      "  1890.9745     2373.7765     2484.82096    3078.66742    3939.66432   ]\n",
      " [ 318.64932     450.63818998  582.51216772 1226.58738554 1437.49740586\n",
      "  1917.63446694 2395.06832076 2505.16917441 3095.11396755 3952.52986623]\n",
      " [ 487.63002     582.51216772  689.6129877  1280.92242608 1484.13086994\n",
      "  1952.83578318 2423.34436438 2532.21607286 3117.04605667 3969.7276973 ]\n",
      " [1184.47424    1226.58738554 1280.92242608 1675.09953449 1835.16773836\n",
      "  2231.31436263 2652.88410926 2752.69221463 3298.66219977 4113.87094833]\n",
      " [1401.73514    1437.49740586 1484.13086994 1835.16773836 1982.35284584\n",
      "  2353.85767674 2756.75103603 2852.92772533 3382.75841373 4181.60451944]\n",
      " [1890.9745     1917.63446694 1952.83578318 2231.31436263 2353.85767674\n",
      "  2674.241784   3034.89693921 3122.51817655 3613.02887376 4369.98163771]\n",
      " [2373.7765     2395.06832076 2423.34436438 2652.88410926 2756.75103603\n",
      "  3034.89693921 3357.02692034 3436.44439431 3887.5452351  4599.54017552]\n",
      " [2484.82096    2505.16917441 2532.21607286 2752.69221463 2852.92772533\n",
      "  3122.51817655 3436.44439431 3514.0675017  3956.32762625 4657.82032259]\n",
      " [3078.66742    3095.11396755 3117.04605667 3298.66219977 3382.75841373\n",
      "  3613.02887376 3887.5452351  3956.32762625 4353.8932194  4999.914803  ]\n",
      " [3939.66432    3952.52986623 3969.7276973  4113.87094833 4181.60451944\n",
      "  4369.98163771 4599.54017552 4657.82032259 4999.914803   5571.52671254]]\n"
     ]
    }
   ],
   "source": [
    "#cities = np.array(Chicago, Springfield, Saint-Louis, Tulsa, Oklahoma-City, Amarillo, Santa-Fe, Albuquerque, Flagstaff, Los-Angeles)\n",
    "positions = np.array([0, 198, 303, 736, 871, 1175, 1475, 1544, 1913, 2448])\n",
    "positions_col = positions[:, None]\n",
    "\n",
    "def dist(x, y):\n",
    "    d = np.sqrt(x**2 + y**2)\n",
    "    return d\n",
    "\n",
    "distances = dist(positions_col, positions)\n",
    "print(distances, '\\n')\n",
    "\n",
    "dist_km = distances * 1.60934\n",
    "print(dist_km)"
   ]
  },
  {
   "cell_type": "markdown",
   "metadata": {},
   "source": [
    "7\\. Prime numbers sieve: compute the prime numbers in the 0-N (N=99 to start with) range with a sieve (mask).\n",
    "  * Constract a shape (100,) boolean array, the mask\n",
    "  * Identify the multiples of each number starting from 2 and set accordingly the corresponding mask element\n",
    "  * Apply the mask to obtain an array of ordered prime numbers\n",
    "  * Check the performances (timeit); how does it scale with N?\n",
    "  * Implement the optimization suggested in the [sieve of Eratosthenes](https://en.wikipedia.org/wiki/Sieve_of_Eratosthenes)"
   ]
  },
  {
   "cell_type": "code",
   "execution_count": 65,
   "metadata": {},
   "outputs": [
    {
     "name": "stdout",
     "output_type": "stream",
     "text": [
      "Prime numbers found with custom mask: [ 2  3  5  7 11 13 17 19 23 29 31 37 41 43 47 53 59 61 67 71 73 79 83 89\n",
      " 97]\n",
      "Prime numbers found with Erathostenes algorithm: [ 2  3  5  7 11 13 17 19 23 29 31 37 41 43 47 53 59 61 67 71 73 79 83 89\n",
      " 97] \n",
      "\n",
      "Time to find all the prime numbers from 0 to 10 :\n",
      "82.9 µs ± 5.16 µs per loop (mean ± std. dev. of 7 runs, 10000 loops each)\n",
      "\n",
      "\n",
      "Time to find all the prime numbers from 0 to 60 :\n",
      "429 µs ± 103 µs per loop (mean ± std. dev. of 7 runs, 1000 loops each)\n",
      "\n",
      "\n",
      "Time to find all the prime numbers from 0 to 110 :\n",
      "845 µs ± 17.9 µs per loop (mean ± std. dev. of 7 runs, 1000 loops each)\n",
      "\n",
      "\n",
      "Time to find all the prime numbers from 0 to 160 :\n",
      "1.67 ms ± 9.81 µs per loop (mean ± std. dev. of 7 runs, 1000 loops each)\n",
      "\n",
      "\n",
      "Time to find all the prime numbers from 0 to 210 :\n",
      "2.96 ms ± 166 µs per loop (mean ± std. dev. of 7 runs, 100 loops each)\n",
      "\n",
      "\n",
      "Time to find all the prime numbers from 0 to 260 :\n",
      "4.47 ms ± 26.8 µs per loop (mean ± std. dev. of 7 runs, 100 loops each)\n",
      "\n",
      "\n",
      "Time to find all the prime numbers from 0 to 310 :\n",
      "6.37 ms ± 82.4 µs per loop (mean ± std. dev. of 7 runs, 100 loops each)\n",
      "\n",
      "\n"
     ]
    }
   ],
   "source": [
    "N = 100\n",
    "\n",
    "# custom mask\n",
    "def cust_mask(n):\n",
    "    a = np.arange(0, n)\n",
    "    multiples = a[2:, None] * a[2:]\n",
    "    mask = [False for i in a]   # 0 and 1 are not prime\n",
    "    mask[2:] = np.isin(a[2:], multiples, invert = True) # check elementwise if every element of a is equal to a multiple\n",
    "    return a[mask]\n",
    "\n",
    "print('Prime numbers found with custom mask:', cust_mask(N))\n",
    "\n",
    " # eratosthenes algorithm\n",
    "def sieve(n): \n",
    "    a = np.arange(0, n)\n",
    "    erat_mask = [True for i in a]\n",
    "    erat_mask[0] = erat_mask[1] = False   # 0 and 1 are not prime numbers\n",
    "    for i in range(2, int(n**0.5)+1):\n",
    "        if erat_mask[i]:\n",
    "            for j in range(i*i, n, i):\n",
    "                erat_mask[j] = False\n",
    "    return a[erat_mask]\n",
    "\n",
    "print('Prime numbers found with Erathostenes algorithm:', sieve(N), '\\n')\n",
    "\n",
    "# see how time scales with N\n",
    "N_range = np.arange(10, 311, 50)\n",
    "\n",
    "for i in N_range:\n",
    "    print(\"Time to find all the prime numbers from 0 to\", i, \":\")\n",
    "    %timeit cust_mask(i)\n",
    "    print('\\n')\n"
   ]
  },
  {
   "cell_type": "markdown",
   "metadata": {},
   "source": [
    "**N.B. the following exercises are meant to be solved only if you are familiar with the numpy random library. If not you can skip them (postponed for one of the next exercise sessions)**\n"
   ]
  },
  {
   "cell_type": "markdown",
   "metadata": {},
   "source": [
    "8\\. Diffusion using random walk\n",
    "\n",
    "Consider a simple random walk process: at each step in time, a walker jumps right or left (+1 or -1) with equal probability. The goal is to find the typical distance from the origin of a random walker after a given amount of time. \n",
    "To do that, let's simulate many walkers and create a 2D array with each walker as a raw and the actual time evolution as columns\n",
    "\n",
    "  * Take 1000 walkers and let them walk for 200 steps\n",
    "  * Use randint to create a 2D array of size walkers x steps with values -1 or 1\n",
    "  * Build the actual walking distances for each walker (i.e. another 2D array \"summing on each raw\")\n",
    "  * Take the square of that 2D array (elementwise)\n",
    "  * Compute the mean of the squared distances at each step (i.e. the mean along the columns)\n",
    "  * Plot the average distances (sqrt(distance\\*\\*2)) as a function of time (step)\n",
    "  \n",
    "Did you get what you expected?"
   ]
  },
  {
   "cell_type": "code",
   "execution_count": 96,
   "metadata": {},
   "outputs": [],
   "source": [
    "import numpy.random as npr\n",
    "import matplotlib.pyplot as plt"
   ]
  },
  {
   "cell_type": "code",
   "execution_count": 101,
   "metadata": {},
   "outputs": [
    {
     "data": {
      "text/plain": [
       "Text(0, 0.5, 'Distance')"
      ]
     },
     "execution_count": 101,
     "metadata": {},
     "output_type": "execute_result"
    },
    {
     "data": {
      "image/png": "[encoded data removed]",
      "text/plain": [
       "<Figure size 432x288 with 1 Axes>"
      ]
     },
     "metadata": {
      "needs_background": "light"
     },
     "output_type": "display_data"
    }
   ],
   "source": [
    "walkers = 1000\n",
    "steps = 200\n",
    "\n",
    "# array walker x steps\n",
    "walk_step = npr.randint(low = 0, high = 2, size = (walkers, steps)) * 2 - 1\n",
    "\n",
    "# array of walked distance for each walker\n",
    "dist = np.cumsum(walk_step, axis = 1)\n",
    "dist = np.square(dist)\n",
    "\n",
    "# mean along the column\n",
    "col_mean = np.mean(dist, axis = 0)\n",
    "\n",
    "plt.plot(range(steps), np.sqrt(col_mean))\n",
    "plt.xlabel('Step')\n",
    "plt.ylabel('Distance')"
   ]
  },
  {
   "cell_type": "markdown",
   "metadata": {},
   "source": [
    "9\\. Analyze a data file \n",
    "  * Download the population of hares, lynxes and carrots at the beginning of the last century.\n",
    "    ```python\n",
    "    ! wget https://www.dropbox.com/s/3vigxoqayo389uc/populations.txt\n",
    "    ```\n",
    "\n",
    "  * Check the content by looking within the file\n",
    "  * Load the data (use an appropriate numpy method) into a 2D array\n",
    "  * Create arrays out of the columns, the arrays being (in order): *year*, *hares*, *lynxes*, *carrots* \n",
    "  * Plot the 3 populations over the years\n",
    "  * Compute the main statistical properties of the dataset (mean, std, correlations, etc.)\n",
    "  * Which species has the highest population each year?\n",
    "\n",
    "Do you feel there is some evident correlation here? [Studies](https://www.enr.gov.nt.ca/en/services/lynx/lynx-snowshoe-hare-cycle) tend to believe so."
   ]
  },
  {
   "cell_type": "code",
   "execution_count": 115,
   "metadata": {},
   "outputs": [
    {
     "data": {
      "image/png": "[encoded data removed]",
      "text/plain": [
       "<Figure size 432x288 with 1 Axes>"
      ]
     },
     "metadata": {
      "needs_background": "light"
     },
     "output_type": "display_data"
    },
    {
     "name": "stdout",
     "output_type": "stream",
     "text": [
      "[2 2 0 0 1 1 2 2 2 2 2 2 0 0 0 1 2 2 2 2 2]\n"
     ]
    }
   ],
   "source": [
    "data = np.loadtxt('populations.txt', comments = '#')\n",
    "year = data[:, 0]\n",
    "hares = data[:, 1]\n",
    "lynxes = data[:, 2]\n",
    "carrots = data[:, 3]\n",
    "\n",
    "plt.plot(year, hares, label = 'hares')\n",
    "plt.plot(year, lynxes, label = 'lynxes')\n",
    "plt.plot(year, carrots, label = 'carrots')\n",
    "plt.xlabel('year')\n",
    "plt.ylabel('quantity')\n",
    "plt.legend()\n",
    "plt.show()"
   ]
  },
  {
   "cell_type": "code",
   "execution_count": 116,
   "metadata": {},
   "outputs": [
    {
     "name": "stdout",
     "output_type": "stream",
     "text": [
      "The mean and std for hares is: 34080.95238095238 +- 20897.906458089667 \n",
      "\n",
      "The mean and std for lynxes is: 20166.666666666668 +- 16254.591536908763 \n",
      "\n",
      "The mean and std for carrots is: 42400.0 +- 3322.5062255844787 \n",
      "\n",
      "The covariance matrix is:\n",
      " [[ 4.58558619e+08  2.56418333e+07 -1.21050000e+06]\n",
      " [ 2.56418333e+07  2.77422333e+08 -3.85930000e+07]\n",
      " [-1.21050000e+06 -3.85930000e+07  1.15910000e+07]]\n"
     ]
    }
   ],
   "source": [
    "# statistical properties\n",
    "hares_mean = np.mean(hares)\n",
    "hares_std = np.std(hares)\n",
    "\n",
    "lynxes_mean = np.mean(lynxes)\n",
    "lynxes_std = np.std(lynxes)\n",
    "\n",
    "carrots_mean = np.mean(carrots)\n",
    "carrots_std = np.std(carrots)\n",
    "\n",
    "cov_mat = np.cov(data[:,1:].T)\n",
    "\n",
    "print('The mean and std for hares is:', hares_mean, '+-', hares_std, '\\n')\n",
    "print('The mean and std for lynxes is:', lynxes_mean, '+-', lynxes_std, '\\n')\n",
    "print('The mean and std for carrots is:', carrots_mean, '+-', carrots_std, '\\n')\n",
    "print('The covariance matrix is:\\n', cov_mat)"
   ]
  },
  {
   "cell_type": "code",
   "execution_count": 119,
   "metadata": {},
   "outputs": [
    {
     "name": "stdout",
     "output_type": "stream",
     "text": [
      "The highest population each year is: ['carrots' 'carrots' 'hares' 'hares' 'lynxes' 'lynxes' 'carrots' 'carrots'\n",
      " 'carrots' 'carrots' 'carrots' 'carrots' 'hares' 'hares' 'hares' 'lynxes'\n",
      " 'carrots' 'carrots' 'carrots' 'carrots' 'carrots']\n"
     ]
    }
   ],
   "source": [
    "# highest population each year\n",
    "highest = np.argmax(data[:, 1:], axis = 1)\n",
    "popul = np.array(['hares', 'lynxes', 'carrots'])\n",
    "\n",
    "print('The highest population each year is:', popul[highest])"
   ]
  }
 ],
 "metadata": {
  "kernelspec": {
   "display_name": "Python 3 (ipykernel)",
   "language": "python",
   "name": "python3"
  },
  "language_info": {
   "codemirror_mode": {
    "name": "ipython",
    "version": 3
   },
   "file_extension": ".py",
   "mimetype": "text/x-python",
   "name": "python",
   "nbconvert_exporter": "python",
   "pygments_lexer": "ipython3",
   "version": "3.9.7"
  }
 },
 "nbformat": 4,
 "nbformat_minor": 2
}
