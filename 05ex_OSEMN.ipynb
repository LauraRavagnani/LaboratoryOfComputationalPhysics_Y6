{
 "cells": [
  {
   "cell_type": "markdown",
   "metadata": {},
   "source": [
    "# OSEMN Exercises"
   ]
  },
  {
   "cell_type": "code",
   "execution_count": 90,
   "metadata": {},
   "outputs": [],
   "source": [
    "%matplotlib inline\n",
    "import pandas as pd\n",
    "import numpy as np\n",
    "import numpy.random as npr\n",
    "import json\n",
    "import csv\n",
    "import matplotlib.pyplot as plt"
   ]
  },
  {
   "cell_type": "markdown",
   "metadata": {},
   "source": [
    "1\\. Create a random list of number and then save it to a text file named \"simple_data.txt\""
   ]
  },
  {
   "cell_type": "code",
   "execution_count": 13,
   "metadata": {},
   "outputs": [],
   "source": [
    "npr.seed(2104271)\n",
    "num = npr.randint(0, 100, 20)\n",
    "\n",
    "file_name = 'simple_data.txt'\n",
    "\n",
    "with open(file_name, mode = 'w') as f:\n",
    "    f.write(str(num))"
   ]
  },
  {
   "cell_type": "markdown",
   "metadata": {},
   "source": [
    "2\\. Create a random matrix of 5x5 and then save it to a text file named \"data.txt\""
   ]
  },
  {
   "cell_type": "code",
   "execution_count": 14,
   "metadata": {},
   "outputs": [],
   "source": [
    "m = npr.randint(1, 100, size = (5,5))\n",
    "\n",
    "file_name = 'data.txt'\n",
    "\n",
    "with open(file_name, mode = 'w') as f:\n",
    "    f.write(str(m))"
   ]
  },
  {
   "cell_type": "markdown",
   "metadata": {},
   "source": [
    "3\\. Load the saved txt file of point 2 and convert it to a csv file (by hand)"
   ]
  },
  {
   "cell_type": "code",
   "execution_count": 15,
   "metadata": {},
   "outputs": [],
   "source": [
    "read_file = pd.read_csv(file_name)\n",
    "read_file.to_csv('data.csv')"
   ]
  },
  {
   "cell_type": "markdown",
   "metadata": {},
   "source": [
    "4\\. load the binary file named *credit_card.dat* and convert the data into the real credit-card number.\n",
    "Each line correspond to a credit card number.   includes spaces (corvert into integers and than into char)\n",
    "Each character is composed by 6 bit (even the space) and the last 4 bit are just a padding\n",
    "\n",
    "**hint**: use the `chr()` function to convert a number to a char"
   ]
  },
  {
   "cell_type": "code",
   "execution_count": 61,
   "metadata": {},
   "outputs": [
    {
     "name": "stdout",
     "output_type": "stream",
     "text": [
      "7648 5673 3775 2271\n",
      "3257 8247 3354 2266\n",
      "2722 0001 4011 6652\n",
      "0661 3063 3742 3150\n",
      "0432 1608 1462 4742\n",
      "5827 2027 8785 7303\n",
      "5774 8528 2087 1117\n",
      "8140 1210 6352 2845\n",
      "5764 1133 7301 7100\n",
      "6456 1737 4126 6726\n",
      "1228 8631 7382 0000\n",
      "7051 0160 5374 3166\n",
      "0618 3587 1630 6376\n",
      "1545 5454 7444 5636\n",
      "6735 3116 3202 6834\n",
      "7287 5011 1547 8413\n",
      "7033 2607 3328 4200\n",
      "2568 5244 1874 5024\n",
      "1684 2253 7570 7118\n",
      "0672 2576 0575 6631\n",
      "6332 8353 8787 1340\n",
      "1813 3361 1175 4211\n",
      "2477 6450 8840 2368\n",
      "5512 3505 2563 1326\n",
      "3083 7882 0621 0025\n",
      "4521 5148 8045 0334\n",
      "7563 3654 8713 5787\n",
      "8324 2664 0476 5561\n",
      "0565 2504 7168 3510\n",
      "5107 5507 1767 0738\n",
      "2462 1821 2448 1443\n",
      "2788 0638 6861 6554\n",
      "5851 5873 5474 0547\n",
      "0670 1004 4013 2655\n",
      "5874 5506 3048 0806\n",
      "2805 5401 8462 1260\n",
      "5083 8406 6310 1862\n",
      "1076 1445 3013 2266\n",
      "8440 4804 4844 5277\n",
      "4758 6141 0686 1387\n",
      "7586 0675 0315 2568\n",
      "2544 1258 7432 5165\n",
      "3474 5023 4434 5626\n",
      "1410 0270 0434 5086\n",
      "7315 4446 1104 4215\n",
      "0224 7742 8300 0266\n",
      "0170 2700 3145 0640\n",
      "2006 2437 8054 1600\n",
      "8142 4055 1776 0026\n",
      "3026 7380 1241 1084\n"
     ]
    }
   ],
   "source": [
    "with open('credit_card.dat', 'r') as file:\n",
    "    data = np.array([f for f in file])\n",
    " \n",
    "# delete last line\n",
    "data = data[:-1]\n",
    "\n",
    "for card in data:\n",
    "    code = []\n",
    "    for i in range(0, len(card) - 5, 6):\n",
    "        c = ''.join(card[i:i+6])\n",
    "        code.append(chr(int(c, 2)))\n",
    "    codes = ''.join(code)\n",
    "\n",
    "    print(codes)\n"
   ]
  },
  {
   "cell_type": "markdown",
   "metadata": {},
   "source": [
    "5\\. Load the file \"user_data.json\", filter the data by the \"CreditCardType\" field equals to \"American Express\". Than save the data a to CSV."
   ]
  },
  {
   "cell_type": "code",
   "execution_count": 80,
   "metadata": {},
   "outputs": [
    {
     "name": "stdout",
     "output_type": "stream",
     "text": [
      "[{'ID': '2', 'JobTitle': 'Investment  Advisor', 'EmailAddress': 'Clint_Thorpe5003@bulaffy.com', 'FirstNameLastName': 'Clint Thorpe', 'CreditCard': '7083-8766-0251-2345', 'CreditCardType': 'American Express'}\n",
      " {'ID': '12', 'JobTitle': 'Retail Trainee', 'EmailAddress': 'Phillip_Carpenter9505@famism.biz', 'FirstNameLastName': 'Phillip Carpenter', 'CreditCard': '3657-0088-0820-5247', 'CreditCardType': 'American Express'}\n",
      " {'ID': '28', 'JobTitle': 'Project Manager', 'EmailAddress': 'Russel_Graves1378@extex.org', 'FirstNameLastName': 'Russel Graves', 'CreditCard': '6718-4818-8011-6024', 'CreditCardType': 'American Express'}\n",
      " {'ID': '39', 'JobTitle': 'Stockbroker', 'EmailAddress': 'Leanne_Newton1268@typill.biz', 'FirstNameLastName': 'Leanne Newton', 'CreditCard': '5438-0816-4166-4847', 'CreditCardType': 'American Express'}\n",
      " {'ID': '57', 'JobTitle': 'Budget Analyst', 'EmailAddress': 'Tony_Giles1960@iatim.tech', 'FirstNameLastName': 'Tony Giles', 'CreditCard': '8130-3425-7573-7745', 'CreditCardType': 'American Express'}\n",
      " {'ID': '62', 'JobTitle': 'CNC Operator', 'EmailAddress': 'Owen_Allcott5125@bauros.biz', 'FirstNameLastName': 'Owen Allcott', 'CreditCard': '4156-0107-7210-2630', 'CreditCardType': 'American Express'}\n",
      " {'ID': '68', 'JobTitle': 'Project Manager', 'EmailAddress': 'Liam_Lynn3280@kideod.biz', 'FirstNameLastName': 'Liam Lynn', 'CreditCard': '7152-3247-6053-2233', 'CreditCardType': 'American Express'}\n",
      " {'ID': '74', 'JobTitle': 'Dentist', 'EmailAddress': 'Regina_Woodcock5820@yahoo.com', 'FirstNameLastName': 'Regina Woodcock', 'CreditCard': '0208-1753-3870-8002', 'CreditCardType': 'American Express'}\n",
      " {'ID': '81', 'JobTitle': 'HR Specialist', 'EmailAddress': 'Carter_Wallace9614@atink.com', 'FirstNameLastName': 'Carter Wallace', 'CreditCard': '4256-7201-6717-4322', 'CreditCardType': 'American Express'}\n",
      " {'ID': '92', 'JobTitle': 'Staffing Consultant', 'EmailAddress': 'Maia_Stark2797@jiman.org', 'FirstNameLastName': 'Maia Stark', 'CreditCard': '3851-1403-1734-6321', 'CreditCardType': 'American Express'}\n",
      " {'ID': '97', 'JobTitle': 'Stockbroker', 'EmailAddress': 'Ciara_Lomax982@bauros.biz', 'FirstNameLastName': 'Ciara Lomax', 'CreditCard': '3702-3440-2472-5424', 'CreditCardType': 'American Express'}\n",
      " {'ID': '116', 'JobTitle': 'Staffing Consultant', 'EmailAddress': 'Isabel_Ellwood1475@fuliss.net', 'FirstNameLastName': 'Isabel Ellwood', 'CreditCard': '3738-0882-0066-6683', 'CreditCardType': 'American Express'}\n",
      " {'ID': '148', 'JobTitle': 'CNC Operator', 'EmailAddress': 'Abdul_Townend2202@infotech44.tech', 'FirstNameLastName': 'Abdul Townend', 'CreditCard': '4224-1226-3557-3448', 'CreditCardType': 'American Express'}\n",
      " {'ID': '150', 'JobTitle': 'Fabricator', 'EmailAddress': 'Caleb_Poulton1735@atink.com', 'FirstNameLastName': 'Caleb Poulton', 'CreditCard': '8203-6875-5225-0341', 'CreditCardType': 'American Express'}\n",
      " {'ID': '151', 'JobTitle': 'Restaurant Manager', 'EmailAddress': 'Ronald_Lewis6777@deavo.com', 'FirstNameLastName': 'Ronald Lewis', 'CreditCard': '7212-0155-5014-8471', 'CreditCardType': 'American Express'}\n",
      " {'ID': '154', 'JobTitle': 'Bellman', 'EmailAddress': 'Faith_Seymour3829@twace.org', 'FirstNameLastName': 'Faith Seymour', 'CreditCard': '4170-5186-6887-6558', 'CreditCardType': 'American Express'}\n",
      " {'ID': '169', 'JobTitle': 'Assistant Buyer', 'EmailAddress': 'Anthony_Hancock9083@qater.org', 'FirstNameLastName': 'Anthony Hancock', 'CreditCard': '0832-3357-6010-6550', 'CreditCardType': 'American Express'}\n",
      " {'ID': '176', 'JobTitle': 'Healthcare Specialist', 'EmailAddress': 'Isabella_Willson5478@nanoff.biz', 'FirstNameLastName': 'Isabella Willson', 'CreditCard': '5177-4868-4623-0384', 'CreditCardType': 'American Express'}\n",
      " {'ID': '182', 'JobTitle': 'Pharmacist', 'EmailAddress': 'Stephanie_Darcy3298@bauros.biz', 'FirstNameLastName': 'Stephanie Darcy', 'CreditCard': '0264-4020-5106-5576', 'CreditCardType': 'American Express'}\n",
      " {'ID': '199', 'JobTitle': 'Investment  Advisor', 'EmailAddress': 'Ryan_Kennedy5565@corti.com', 'FirstNameLastName': 'Ryan Kennedy', 'CreditCard': '3166-6287-6242-7207', 'CreditCardType': 'American Express'}]\n"
     ]
    }
   ],
   "source": [
    "file_name = 'user_data.json'\n",
    "\n",
    "user_data = json.load(open(file_name))\n",
    "user_data = np.array(user_data)\n",
    "\n",
    "mask = [user_data[i]['CreditCardType'] == 'American Express' for i in range(len(user_data))]\n",
    "print(user_data[mask])\n"
   ]
  },
  {
   "cell_type": "markdown",
   "metadata": {},
   "source": [
    "6\\. Load the file from this url: [https://www.dropbox.com/s/7u3lm737ogbqsg8/mushrooms_categorized.csv?dl=1](https://www.dropbox.com/s/7u3lm737ogbqsg8/mushrooms_categorized.csv?dl=1) with Pandas. \n",
    "+ Explore the data (see the info of the data)\n",
    "+ Draw the istogram of the 'class' field. Decribe wath yuou see\n"
   ]
  },
  {
   "cell_type": "code",
   "execution_count": 84,
   "metadata": {},
   "outputs": [
    {
     "name": "stdout",
     "output_type": "stream",
     "text": [
      "--2024-02-06 15:30:32--  https://www.dropbox.com/s/7u3lm737ogbqsg8/mushrooms_categorized.csv\n",
      "Risoluzione di www.dropbox.com (www.dropbox.com)... 2620:100:6025:18::a27d:4512, 162.125.69.18\n",
      "Connessione a www.dropbox.com (www.dropbox.com)|2620:100:6025:18::a27d:4512|:443... connesso.\n",
      "Richiesta HTTP inviata, in attesa di risposta... 302 Found\n",
      "Posizione: /s/raw/7u3lm737ogbqsg8/mushrooms_categorized.csv [segue]\n",
      "--2024-02-06 15:30:33--  https://www.dropbox.com/s/raw/7u3lm737ogbqsg8/mushrooms_categorized.csv\n",
      "Riutilizzo della connessione esistente a [www.dropbox.com]:443.\n",
      "Richiesta HTTP inviata, in attesa di risposta... 302 Found\n",
      "Posizione: https://ucc0a18047152f7ec816ed91b01f.dl.dropboxusercontent.com/cd/0/inline/CMwbpTlPewQFjbsBz3T_GmanKIiu3A8OTSwSMVX_HuVhoMD4gX_jVMlzy4gbMLOHoGO3DDJgxspSLwxUa-bezRZcHa-p1-9AzbpXQC0-962s2X6W4ck283PnB4x5WjKncmA/file# [segue]\n",
      "--2024-02-06 15:30:33--  https://ucc0a18047152f7ec816ed91b01f.dl.dropboxusercontent.com/cd/0/inline/CMwbpTlPewQFjbsBz3T_GmanKIiu3A8OTSwSMVX_HuVhoMD4gX_jVMlzy4gbMLOHoGO3DDJgxspSLwxUa-bezRZcHa-p1-9AzbpXQC0-962s2X6W4ck283PnB4x5WjKncmA/file\n",
      "Risoluzione di ucc0a18047152f7ec816ed91b01f.dl.dropboxusercontent.com (ucc0a18047152f7ec816ed91b01f.dl.dropboxusercontent.com)... 2620:100:6025:15::a27d:450f, 162.125.69.15\n",
      "Connessione a ucc0a18047152f7ec816ed91b01f.dl.dropboxusercontent.com (ucc0a18047152f7ec816ed91b01f.dl.dropboxusercontent.com)|2620:100:6025:15::a27d:450f|:443... connesso.\n",
      "Richiesta HTTP inviata, in attesa di risposta... 200 OK\n",
      "Lunghezza: 375292 (366K) [text/plain]\n",
      "Salvataggio in: «mushrooms_categorized.csv»\n",
      "\n",
      "mushrooms_categoriz 100%[===================>] 366,50K  --.-KB/s    in 0,05s   \n",
      "\n",
      "2024-02-06 15:30:34 (7,91 MB/s) - «mushrooms_categorized.csv» salvato [375292/375292]\n",
      "\n"
     ]
    }
   ],
   "source": [
    "!wget https://www.dropbox.com/s/7u3lm737ogbqsg8/mushrooms_categorized.csv"
   ]
  },
  {
   "cell_type": "code",
   "execution_count": 96,
   "metadata": {},
   "outputs": [
    {
     "name": "stdout",
     "output_type": "stream",
     "text": [
      "Index(['class', 'cap-shape', 'cap-surface', 'cap-color', 'bruises', 'odor',\n",
      "       'gill-attachment', 'gill-spacing', 'gill-size', 'gill-color',\n",
      "       'stalk-shape', 'stalk-root', 'stalk-surface-above-ring',\n",
      "       'stalk-surface-below-ring', 'stalk-color-above-ring',\n",
      "       'stalk-color-below-ring', 'veil-type', 'veil-color', 'ring-number',\n",
      "       'ring-type', 'spore-print-color', 'population', 'habitat'],\n",
      "      dtype='object')\n"
     ]
    },
    {
     "data": {
      "image/png": "[encoded data removed]",
      "text/plain": [
       "<Figure size 504x360 with 1 Axes>"
      ]
     },
     "metadata": {
      "needs_background": "light"
     },
     "output_type": "display_data"
    }
   ],
   "source": [
    "data = pd.read_csv('mushrooms_categorized.csv')\n",
    "#print(data.head())\n",
    "\n",
    "print(data.columns)\n",
    "\n",
    "fig, ax = plt.subplots(figsize = (7, 5))\n",
    "ax = plt.hist(data['class'])\n",
    "ax = plt.xlabel('class')\n",
    "ax = plt.ylabel('counts')"
   ]
  },
  {
   "cell_type": "markdown",
   "metadata": {},
   "source": [
    "7\\. Load the remote file [https://www.dropbox.com/s/vkl89yce7xjdq4n/regression_generated.csv?dl=1](https://www.dropbox.com/s/vkl89yce7xjdq4n/regression_generated.csv?dl=1) with Pandas and plot a scatter plot all possible combination of the following fields:\n",
    "    \n",
    "  + features_1\n",
    "  + features_2\n",
    "  + features_3"
   ]
  },
  {
   "cell_type": "code",
   "execution_count": 98,
   "metadata": {},
   "outputs": [
    {
     "name": "stdout",
     "output_type": "stream",
     "text": [
      "--2024-02-06 15:36:09--  https://www.dropbox.com/s/vkl89yce7xjdq4n/regression_generated.csv\n",
      "Risoluzione di www.dropbox.com (www.dropbox.com)... 2620:100:6025:18::a27d:4512, 162.125.69.18\n",
      "Connessione a www.dropbox.com (www.dropbox.com)|2620:100:6025:18::a27d:4512|:443... connesso.\n",
      "Richiesta HTTP inviata, in attesa di risposta... 302 Found\n",
      "Posizione: /s/raw/vkl89yce7xjdq4n/regression_generated.csv [segue]\n",
      "--2024-02-06 15:36:09--  https://www.dropbox.com/s/raw/vkl89yce7xjdq4n/regression_generated.csv\n",
      "Riutilizzo della connessione esistente a [www.dropbox.com]:443.\n",
      "Richiesta HTTP inviata, in attesa di risposta... 302 Found\n",
      "Posizione: https://ucd1a281e19c333e2f075e0ec18a.dl.dropboxusercontent.com/cd/0/inline/CMwUo5O67LuXwnbzMwpsxC3u6b8v7ZrHwF-Ex38FM7Q-15fwkW4ZEa64_4SulG5JU68-2ofKL3NqrJKxQrlSIIp56blNae4RiHmUwonwlPx7KPdy_IWN3j9AtnDoBWEb_T0/file# [segue]\n",
      "--2024-02-06 15:36:10--  https://ucd1a281e19c333e2f075e0ec18a.dl.dropboxusercontent.com/cd/0/inline/CMwUo5O67LuXwnbzMwpsxC3u6b8v7ZrHwF-Ex38FM7Q-15fwkW4ZEa64_4SulG5JU68-2ofKL3NqrJKxQrlSIIp56blNae4RiHmUwonwlPx7KPdy_IWN3j9AtnDoBWEb_T0/file\n",
      "Risoluzione di ucd1a281e19c333e2f075e0ec18a.dl.dropboxusercontent.com (ucd1a281e19c333e2f075e0ec18a.dl.dropboxusercontent.com)... 2620:100:6025:15::a27d:450f, 162.125.69.15\n",
      "Connessione a ucd1a281e19c333e2f075e0ec18a.dl.dropboxusercontent.com (ucd1a281e19c333e2f075e0ec18a.dl.dropboxusercontent.com)|2620:100:6025:15::a27d:450f|:443... connesso.\n",
      "Richiesta HTTP inviata, in attesa di risposta... 200 OK\n",
      "Lunghezza: 823374 (804K) [text/plain]\n",
      "Salvataggio in: «regression_generated.csv»\n",
      "\n",
      "regression_generate 100%[===================>] 804,08K  --.-KB/s    in 0,07s   \n",
      "\n",
      "2024-02-06 15:36:11 (11,8 MB/s) - «regression_generated.csv» salvato [823374/823374]\n",
      "\n"
     ]
    }
   ],
   "source": [
    "!wget https://www.dropbox.com/s/vkl89yce7xjdq4n/regression_generated.csv"
   ]
  },
  {
   "cell_type": "code",
   "execution_count": 116,
   "metadata": {},
   "outputs": [
    {
     "data": {
      "image/png": "[encoded data removed]",
      "text/plain": [
       "<Figure size 720x504 with 9 Axes>"
      ]
     },
     "metadata": {
      "needs_background": "light"
     },
     "output_type": "display_data"
    }
   ],
   "source": [
    "data = pd.read_csv('regression_generated.csv')\n",
    "#print(data.head())\n",
    "\n",
    "features = [data['features_1'], data['features_2'], data['features_3']]\n",
    "col_names = ['features_1', 'features_2', 'features_3']\n",
    "\n",
    "fig, ax = plt.subplots(nrows=3, ncols=3, figsize = (10, 7))\n",
    "for i in range(3):\n",
    "    for j in range(3):\n",
    "        ax[i][j].scatter(features[i], features[j])"
   ]
  },
  {
   "cell_type": "markdown",
   "metadata": {},
   "source": [
    "8\\. Load the same file of point 6, and convert the file to json with Pandas."
   ]
  },
  {
   "cell_type": "code",
   "execution_count": null,
   "metadata": {},
   "outputs": [],
   "source": []
  }
 ],
 "metadata": {
  "kernelspec": {
   "display_name": "Python 3 (ipykernel)",
   "language": "python",
   "name": "python3"
  },
  "language_info": {
   "codemirror_mode": {
    "name": "ipython",
    "version": 3
   },
   "file_extension": ".py",
   "mimetype": "text/x-python",
   "name": "python",
   "nbconvert_exporter": "python",
   "pygments_lexer": "ipython3",
   "version": "3.9.7"
  }
 },
 "nbformat": 4,
 "nbformat_minor": 2
}
