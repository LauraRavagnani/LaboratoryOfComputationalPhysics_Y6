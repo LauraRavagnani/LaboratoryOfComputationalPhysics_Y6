{
 "cells": [
  {
   "cell_type": "markdown",
   "metadata": {},
   "source": [
    "1\\. Write a function that converts number representation, bin<->dec<->hex. (Clearly using the corresponding python built-in functions is not fair..)"
   ]
  },
  {
   "cell_type": "code",
   "execution_count": 3,
   "metadata": {},
   "outputs": [
    {
     "name": "stdout",
     "output_type": "stream",
     "text": [
      "11111110101\n"
     ]
    }
   ],
   "source": [
    "def dec_bin(n):\n",
    "    rest = []\n",
    "    quotient = []\n",
    "    quotient.append(n // 2)\n",
    "    rest.append(n % 2)\n",
    "\n",
    "    i = 0\n",
    "    while quotient[i] >= 1:\n",
    "        quotient.append(quotient[i] // 2)\n",
    "        rest.append(quotient[i] % 2)\n",
    "        i += 1\n",
    "\n",
    "    digits = [str(x) for x in rest[::-1]]    # reversed digits of the binary number\n",
    "    print(int(''.join(digits)))             # print as a int\n",
    "  \n",
    "dec_bin(2037)"
   ]
  },
  {
   "cell_type": "code",
   "execution_count": 4,
   "metadata": {},
   "outputs": [
    {
     "name": "stdout",
     "output_type": "stream",
     "text": [
      "2037\n"
     ]
    }
   ],
   "source": [
    "def bin_dec(n):\n",
    "    digits = [int(x) for x in str(n)]   # digits of the input number\n",
    "\n",
    "    mult = [digits[i] * pow(2, len(digits)-1-i) for i in range(len(digits))]       # list of multiplication digit x 2^i\n",
    "    \n",
    "    print(sum(mult))\n",
    "\n",
    "bin_dec(11111110101)"
   ]
  },
  {
   "cell_type": "code",
   "execution_count": 5,
   "metadata": {},
   "outputs": [
    {
     "name": "stdout",
     "output_type": "stream",
     "text": [
      "7f5\n"
     ]
    }
   ],
   "source": [
    "def dec_hex(n):\n",
    "    rest = []\n",
    "    quotient = []\n",
    "    quotient.append(n // 16)\n",
    "    rest.append(n % 16)\n",
    "\n",
    "    letters = [chr(x) for x in range(ord('a'), ord('f') + 1)]\n",
    "    dig = [str(x) for x in range(10)]\n",
    "    hex_digits = dig + letters              # hexadecimal digits\n",
    "\n",
    "    i = 0\n",
    "    while quotient[i] >= 1:\n",
    "        quotient.append(quotient[i] // 16)\n",
    "        rest.append(quotient[i] % 16)\n",
    "        i += 1\n",
    "\n",
    "    digits = [x for x in rest[::-1]]    # reversed digits of the binary number\n",
    "    result = [hex_digits[i] for i in digits]\n",
    "\n",
    "    print(''.join(result))         \n",
    "\n",
    "dec_hex(2037)"
   ]
  },
  {
   "cell_type": "code",
   "execution_count": 6,
   "metadata": {},
   "outputs": [
    {
     "name": "stdout",
     "output_type": "stream",
     "text": [
      "2037\n"
     ]
    }
   ],
   "source": [
    "def hex_dec(n):\n",
    "    digits = []\n",
    "    for x in str(n):\n",
    "        try:\n",
    "            digits.append(int(x))\n",
    "        except:\n",
    "            digits.append(ord(x) - 87)\n",
    "    \n",
    "    mult = [digits[i] * pow(16, len(digits)-1-i) for i in range(len(digits))]       # list of multiplication digit x 16^i\n",
    "    \n",
    "    print(sum(mult))\n",
    "\n",
    "hex_dec('7f5')"
   ]
  },
  {
   "cell_type": "markdown",
   "metadata": {},
   "source": [
    "2\\. Write a function that converts a 32 bit word into a single precision floating point (i.e. interprets the various bits as sign, mantissa and exponent)"
   ]
  },
  {
   "cell_type": "code",
   "execution_count": 7,
   "metadata": {},
   "outputs": [
    {
     "name": "stdout",
     "output_type": "stream",
     "text": [
      "-5.5\n",
      "1.316553672920962e-36\n"
     ]
    }
   ],
   "source": [
    "def float32(n):\n",
    "    bias = 127                     # bias for single precision\n",
    "\n",
    "    # find the sign\n",
    "    sign = int(n[0])               # sign is the first digit\n",
    "    if sign == 0:\n",
    "        sign = 1\n",
    "    else:\n",
    "        sign = -1   \n",
    "\n",
    "    # convert the exponent\n",
    "    exp = [n[i] for i in range(1, 9)]\n",
    "    exp = ''.join(exp)\n",
    "    exp = int(exp, 2) - bias\n",
    "\n",
    "    # convert mantissa\n",
    "    m = [n[i] for i in range(9, 32)]\n",
    "    mant = [int(m[i]) * pow(2, -(i+1)) for i in range(len(m))]\n",
    "    mant = sum(mant)\n",
    "    \n",
    "    print(sign * (mant + 1) * pow(2, exp))\n",
    "\n",
    "float32('110000001011000000000000000000000')\n",
    "float32('00000011111000000000000000000000')"
   ]
  },
  {
   "cell_type": "markdown",
   "metadata": {},
   "source": [
    "3\\. Write a program to determine the underflow and overflow limits (within a factor of 2) for python on your computer. \n",
    "\n",
    "**Tips**: define two variables inizialized to 1 and halve/double them enough time to exceed the under/over-flow limits  "
   ]
  },
  {
   "cell_type": "code",
   "execution_count": 8,
   "metadata": {},
   "outputs": [
    {
     "name": "stdout",
     "output_type": "stream",
     "text": [
      "the underflow and overflow limits for python on this computer are 2.2250738585072014e-308 and 179769313486231590772930519078902473361797697894230657273430081157732675805500963132708477322407536021120113879871393357658789768814416622492847430639474124377767893424865485276302219601246094119453082952085005768838150682342462881473913110540827237163350510684586298239947245938479716304835356329624224137216\n"
     ]
    }
   ],
   "source": [
    "import sys\n",
    "\n",
    "# underflow limit\n",
    "under_limit = sys.float_info.min\n",
    "n_under = 1\n",
    "\n",
    "while n_under > under_limit:\n",
    "    previous_n = n_under\n",
    "    n_under /= 2\n",
    "\n",
    "# overflow limit\n",
    "over_limit = sys.float_info.max\n",
    "n_over = 1\n",
    "\n",
    "while n_over < over_limit:\n",
    "    previous_n = n_over\n",
    "    n_over *= 2\n",
    "\n",
    "print('the underflow and overflow limits for python on this computer are', n_under, 'and', n_over)\n",
    " "
   ]
  },
  {
   "cell_type": "markdown",
   "metadata": {},
   "source": [
    "4\\. Write a program to determine the machine precision\n",
    "\n",
    "**Tips**: define a new variable by adding a smaller and smaller value (proceeding similarly to prob. 2) to an original variable and check the point where the two are the same "
   ]
  },
  {
   "cell_type": "code",
   "execution_count": 9,
   "metadata": {},
   "outputs": [
    {
     "name": "stdout",
     "output_type": "stream",
     "text": [
      "the machine precision is 8.881784197001253e-17\n"
     ]
    }
   ],
   "source": [
    "a = 1\n",
    "b = 0.1\n",
    "\n",
    "while a + b != a:\n",
    "    precision = b\n",
    "    b /= 2\n",
    "\n",
    "print('the machine precision is', b)"
   ]
  },
  {
   "cell_type": "markdown",
   "metadata": {},
   "source": [
    "5\\. Write a function that takes in input three parameters $a$, $b$ and $c$ and prints out the two solutions to the quadratic equation $ax^2+bx+c=0$ using the standard formula:\n",
    "$$\n",
    "x=\\frac{-b\\pm\\sqrt{b^2-4ac}}{2a}\n",
    "$$\n",
    "\n",
    "(a) use the program to compute the solution for $a=0.001$, $b=1000$ and $c=0.001$\n",
    "\n",
    "(b) re-express the standard solution formula by multiplying top and bottom by $-b\\mp\\sqrt{b^2-4ac}$ and again find the solution for $a=0.001$, $b=1000$ and $c=0.001$. How does it compare with what previously obtained? Why?\n",
    "\n",
    "(c) write a function that compute the roots of a quadratic equation accurately in all cases"
   ]
  },
  {
   "cell_type": "code",
   "execution_count": 10,
   "metadata": {},
   "outputs": [],
   "source": [
    "from math import sqrt\n",
    "\n",
    "def quad(a, b, c):\n",
    "    delta = b**2 - 4 * a * c\n",
    "\n",
    "    x1 = (-b + sqrt(delta)) / (2 * a)\n",
    "    x2 = (-b - sqrt(delta)) / (2 * a)\n",
    "\n",
    "    x = [x1, x2]\n",
    "\n",
    "    print(x)"
   ]
  },
  {
   "cell_type": "markdown",
   "metadata": {},
   "source": [
    "#### a)"
   ]
  },
  {
   "cell_type": "code",
   "execution_count": 11,
   "metadata": {},
   "outputs": [
    {
     "name": "stdout",
     "output_type": "stream",
     "text": [
      "[-9.999894245993346e-07, -999999.999999]\n"
     ]
    }
   ],
   "source": [
    "a = 0.001\n",
    "b = 1000\n",
    "c = 0.001\n",
    "\n",
    "quad(a, b, c)"
   ]
  },
  {
   "cell_type": "markdown",
   "metadata": {},
   "source": [
    "#### b)\n",
    "re-expressed formula is\n",
    "$$\n",
    "x = -\\frac{2c}{b \\pm \\sqrt{b^2 - 4ac}}\n",
    "$$"
   ]
  },
  {
   "cell_type": "code",
   "execution_count": 12,
   "metadata": {},
   "outputs": [
    {
     "name": "stdout",
     "output_type": "stream",
     "text": [
      "[-1.000000000001e-06, -1000010.5755125057]\n"
     ]
    }
   ],
   "source": [
    "def quad2(a, b, c):\n",
    "    delta = b**2 - 4 * a * c\n",
    "\n",
    "    x1 = -2 * c /(b + sqrt(delta))\n",
    "    x2 = -2 * c /(b - sqrt(delta))\n",
    "\n",
    "    x = [x1, x2]\n",
    "\n",
    "    print(x)\n",
    "\n",
    "quad2(a, b, c)"
   ]
  },
  {
   "cell_type": "markdown",
   "metadata": {},
   "source": [
    "#### c) ??????????"
   ]
  },
  {
   "cell_type": "code",
   "execution_count": 13,
   "metadata": {},
   "outputs": [
    {
     "name": "stdout",
     "output_type": "stream",
     "text": [
      "[-9.999894245993346e-07, -999999.999999]\n"
     ]
    }
   ],
   "source": [
    "def quad3(a, b, c):\n",
    "    delta = b**2 - 4 * a * c\n",
    "    sqrt_delta = sqrt(delta)\n",
    "\n",
    "    x1 = (-b + sqrt_delta)/ (2 * a)\n",
    "    x2 = (-b - sqrt_delta) / (2 * a)\n",
    "\n",
    "    x = [x1, x2]\n",
    "\n",
    "    print(x)\n",
    "\n",
    "quad3(a, b, c)"
   ]
  },
  {
   "cell_type": "markdown",
   "metadata": {},
   "source": [
    "6\\. Write a program that implements the function $f(x)=x(x−1)$\n",
    "\n",
    "(a) Calculate the derivative of the function at the point $x = 1$ using the derivative definition:\n",
    "\n",
    "$$\n",
    "\\frac{{\\rm d}f}{{\\rm d}x} = \\lim_{\\delta\\to0} \\frac{f(x+\\delta)-f(x)}{\\delta}\n",
    "$$\n",
    "\n",
    "with $\\delta = 10^{−2}$. Calculate the true value of the same derivative analytically and compare with the answer your program gives. The two will not agree perfectly. Why not?\n",
    "\n",
    "(b) Repeat the calculation for $\\delta = 10^{−4}, 10^{−6}, 10^{−8}, 10^{−10}, 10^{−12}$ and $10^{−14}$. How does the accuracy scales with $\\delta$?"
   ]
  },
  {
   "cell_type": "markdown",
   "metadata": {},
   "source": [
    "#### a)"
   ]
  },
  {
   "cell_type": "code",
   "execution_count": 14,
   "metadata": {},
   "outputs": [],
   "source": [
    "def f(x):\n",
    "    func = x * (x - 1)\n",
    "    return func\n",
    "\n",
    "def derivative (f, delta, x_0):\n",
    "    der = (f(x_0 + delta) - f(x_0)) / delta\n",
    "    return(der)"
   ]
  },
  {
   "cell_type": "code",
   "execution_count": 15,
   "metadata": {},
   "outputs": [
    {
     "name": "stdout",
     "output_type": "stream",
     "text": [
      "the true value of the derivative is 1, but the value found with the computer is 1.010000000000001\n"
     ]
    }
   ],
   "source": [
    "print('the true value of the derivative is 1, but the value found with the computer is', derivative(f, 0.01, 1))"
   ]
  },
  {
   "cell_type": "code",
   "execution_count": 16,
   "metadata": {},
   "outputs": [
    {
     "name": "stdout",
     "output_type": "stream",
     "text": [
      "[1.0000999999998899, 1.0000009999177333, 1.0000000039225287, 1.000000082840371, 1.0000889005833413, 0.9992007221626509]\n"
     ]
    }
   ],
   "source": [
    "delta_list = [1e-04, 1e-06, 1e-08, 1e-10, 1e-12, 1e-14]\n",
    "x_0 = 1\n",
    "\n",
    "derivatives = [derivative(f, d, x_0) for d in delta_list]\n",
    "print(derivatives)"
   ]
  },
  {
   "cell_type": "code",
   "execution_count": 17,
   "metadata": {},
   "outputs": [
    {
     "data": {
      "image/png": "[encoded data removed]",
      "text/plain": [
       "<Figure size 432x288 with 1 Axes>"
      ]
     },
     "metadata": {
      "needs_background": "light"
     },
     "output_type": "display_data"
    }
   ],
   "source": [
    "import matplotlib.pyplot as plt\n",
    "\n",
    "plt.plot(delta_list, derivatives)\n",
    "plt.xscale('log')"
   ]
  },
  {
   "cell_type": "markdown",
   "metadata": {},
   "source": [
    "7\\. Consider the integral of the semicircle of radius 1:\n",
    "$$\n",
    "I=\\int_{-1}^{1} \\sqrt(1-x^2) {\\rm d}x\n",
    "$$\n",
    "which it's known to be $I=\\frac{\\pi}{2}=1.57079632679...$.\n",
    "Alternatively we can use the Riemann definition of the integral:\n",
    "$$\n",
    "I=\\lim_{N\\to\\infty} \\sum_{k=1}^{N} h y_k \n",
    "$$\n",
    "\n",
    "with $h=2/N$ the width of each of the $N$ slices the domain is divided into and where\n",
    "$y_k$ is the value of the function at the $k-$ th slice.\n",
    "\n",
    "(a) Write a programe to compute the integral with $N=100$. How does the result compares to the true value?\n",
    "\n",
    "(b) How much can $N$ be increased if the computation needs to be run in less than a second? What is the gain in running it for 1 minute? \n"
   ]
  },
  {
   "cell_type": "markdown",
   "metadata": {},
   "source": [
    "#### a)"
   ]
  },
  {
   "cell_type": "code",
   "execution_count": 29,
   "metadata": {},
   "outputs": [
    {
     "data": {
      "text/plain": [
       "1.5534179294048955"
      ]
     },
     "execution_count": 29,
     "metadata": {},
     "output_type": "execute_result"
    }
   ],
   "source": [
    "import numpy as np\n",
    "\n",
    "N = 100\n",
    "h = 2 / N\n",
    "\n",
    "def f(x):\n",
    "    return(sqrt(1 - x**2))\n",
    "\n",
    "def riemann(f, N, h):\n",
    "    integrand = [h * f(x) for x in np.linspace(-1, 1, N)]\n",
    "    integral = sum(integrand)\n",
    "    return(integral)\n",
    "\n",
    "riemann(f, N, h)\n"
   ]
  },
  {
   "cell_type": "markdown",
   "metadata": {},
   "source": [
    "#### b)"
   ]
  },
  {
   "cell_type": "code",
   "execution_count": 26,
   "metadata": {},
   "outputs": [
    {
     "name": "stdout",
     "output_type": "stream",
     "text": [
      "1000\n",
      "929 µs ± 248 µs per loop (mean ± std. dev. of 7 runs, 1000 loops each)\n",
      "10000\n",
      "7.06 ms ± 92.1 µs per loop (mean ± std. dev. of 7 runs, 100 loops each)\n",
      "100000\n",
      "73.7 ms ± 1.75 ms per loop (mean ± std. dev. of 7 runs, 10 loops each)\n",
      "1000000\n",
      "790 ms ± 6.81 ms per loop (mean ± std. dev. of 7 runs, 1 loop each)\n",
      "1250000\n",
      "1.03 s ± 53.5 ms per loop (mean ± std. dev. of 7 runs, 1 loop each)\n"
     ]
    }
   ],
   "source": [
    "N_list = [1000, 10000, 100000, 1000000, 1250000]\n",
    "\n",
    "for N in N_list:\n",
    "    print(N)\n",
    "    %timeit riemann(f, N, h)"
   ]
  },
  {
   "cell_type": "code",
   "execution_count": 30,
   "metadata": {},
   "outputs": [
    {
     "data": {
      "text/plain": [
       "1.5707963058486936"
      ]
     },
     "execution_count": 30,
     "metadata": {},
     "output_type": "execute_result"
    }
   ],
   "source": [
    "N1 = 75000000\n",
    "h1 = 2 / N1\n",
    "riemann(f, N1, h1)"
   ]
  }
 ],
 "metadata": {
  "kernelspec": {
   "display_name": "Python 3 (ipykernel)",
   "language": "python",
   "name": "python3"
  },
  "language_info": {
   "codemirror_mode": {
    "name": "ipython",
    "version": 3
   },
   "file_extension": ".py",
   "mimetype": "text/x-python",
   "name": "python",
   "nbconvert_exporter": "python",
   "pygments_lexer": "ipython3",
   "version": "3.9.7"
  }
 },
 "nbformat": 4,
 "nbformat_minor": 2
}
