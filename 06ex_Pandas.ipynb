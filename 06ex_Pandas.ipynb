{
 "cells": [
  {
   "cell_type": "markdown",
   "metadata": {},
   "source": [
    "## Pandas analysis\n",
    "\n",
    "This exercise consists in analyzing a dataset containg timing information from a series of Time-to-Digital-Converters (TDC) implemented in a couple of FPGAs. Each measurement (i.e. each row of the input file) consists of a flag that specifies the type of message ('HEAD', which in this case is always 1), two addresses of the TDC providing the signal ('FPGA' and 'TDC_CHANNEL'), and the timing information ('ORBIT_CNT', 'BX_COUNTER', and 'TDC_MEAS'). Each TDC count corresponds to 25/30 ns, whereas a unit of BX_COUNTER corresponds to 25 ns, and the ORBIT_CNT is increased every 'x' BX_COUNTER. This allows to store the time in a similar way to hours, minutes and seconds."
   ]
  },
  {
   "cell_type": "code",
   "execution_count": 1,
   "metadata": {},
   "outputs": [
    {
     "name": "stdout",
     "output_type": "stream",
     "text": [
      "--2023-11-23 08:59:43--  https://www.dropbox.com/s/xvjzaxzz3ysphme/data_000637.txt\n",
      "Risoluzione di www.dropbox.com (www.dropbox.com)... 162.125.69.18\n",
      "Connessione a www.dropbox.com (www.dropbox.com)|162.125.69.18|:443... connesso.\n",
      "Richiesta HTTP inviata, in attesa di risposta... 302 Found\n",
      "Posizione: /s/raw/xvjzaxzz3ysphme/data_000637.txt [segue]\n",
      "--2023-11-23 08:59:43--  https://www.dropbox.com/s/raw/xvjzaxzz3ysphme/data_000637.txt\n",
      "Riutilizzo della connessione esistente a www.dropbox.com:443.\n",
      "Richiesta HTTP inviata, in attesa di risposta... 302 Found\n",
      "Posizione: https://uc9d0f0cdc13fb6a420385d569a6.dl.dropboxusercontent.com/cd/0/inline/CIF7XIoFhRXcruZ4sfWbwlUVGvbf5OdNRZcL69wYcV4HSKTvbcZ7YvLwuxdOBe6fbtIhTf7WbmO7We8trVQXePQtUQHzBxLcD0z38RASDiQQ3Ru8Q7lm8a8WH8lYQwrh9pQ/file# [segue]\n",
      "--2023-11-23 08:59:43--  https://uc9d0f0cdc13fb6a420385d569a6.dl.dropboxusercontent.com/cd/0/inline/CIF7XIoFhRXcruZ4sfWbwlUVGvbf5OdNRZcL69wYcV4HSKTvbcZ7YvLwuxdOBe6fbtIhTf7WbmO7We8trVQXePQtUQHzBxLcD0z38RASDiQQ3Ru8Q7lm8a8WH8lYQwrh9pQ/file\n",
      "Risoluzione di uc9d0f0cdc13fb6a420385d569a6.dl.dropboxusercontent.com (uc9d0f0cdc13fb6a420385d569a6.dl.dropboxusercontent.com)... 162.125.69.15\n",
      "Connessione a uc9d0f0cdc13fb6a420385d569a6.dl.dropboxusercontent.com (uc9d0f0cdc13fb6a420385d569a6.dl.dropboxusercontent.com)|162.125.69.15|:443... connesso.\n",
      "Richiesta HTTP inviata, in attesa di risposta... 200 OK\n",
      "Lunghezza: 33179236 (32M) [text/plain]\n",
      "Salvataggio in: «/Users/laura/data/data_000637.txt.1»\n",
      "\n",
      "data_000637.txt.1   100%[===================>]  31,64M  5,93MB/s    in 8,5s    \n",
      "\n",
      "2023-11-23 08:59:52 (3,73 MB/s) - «/Users/laura/data/data_000637.txt.1» salvato [33179236/33179236]\n",
      "\n"
     ]
    }
   ],
   "source": [
    "# If you didn't download it yet, please get the relevant file now!\n",
    "!wget https://www.dropbox.com/s/xvjzaxzz3ysphme/data_000637.txt -P ~/data/"
   ]
  },
  {
   "cell_type": "markdown",
   "metadata": {},
   "source": [
    "1\\. Create a Pandas DataFrame reading N rows of the 'data_000637.txt' dataset. Choose N to be smaller than or equal to the maximum number of rows and larger that 10k.\n",
    "\n",
    "2\\. Find out the number of BX in a ORBIT (the value 'x').\n",
    "\n",
    "3\\. Find out how much the data taking lasted. You can either make an estimate based on the fraction of the measurements (rows) you read, or perform this check precisely by reading out the whole dataset.\n",
    "\n",
    "4\\. Create a new column with the absolute time in ns (as a combination of the other three columns with timing information).\n",
    "\n",
    "5\\. Replace the values (all 1) of the HEAD column randomly with 0 or 1.\n",
    "\n",
    "6\\. Create a new DataFrame that contains only the rows with HEAD=1.\n",
    "\n",
    "7\\. Make two occupancy plots (one for each FPGA), i.e. plot the number of counts per TDC channel\n",
    "\n",
    "8\\. Use the groupby method to find out the noisy channels, i.e. the TDC channels with most counts (say the top 3)\n",
    "\n",
    "9\\. Count the number of unique orbits. Count the number of unique orbits with at least one measurement from TDC_CHANNEL=139"
   ]
  },
  {
   "cell_type": "code",
   "execution_count": 2,
   "metadata": {},
   "outputs": [],
   "source": [
    "import pandas as pd\n",
    "import numpy as np"
   ]
  },
  {
   "cell_type": "markdown",
   "metadata": {},
   "source": [
    "#### 1)"
   ]
  },
  {
   "cell_type": "code",
   "execution_count": 21,
   "metadata": {},
   "outputs": [
    {
     "data": {
      "text/html": [
       "<div>\n",
       "<style scoped>\n",
       "    .dataframe tbody tr th:only-of-type {\n",
       "        vertical-align: middle;\n",
       "    }\n",
       "\n",
       "    .dataframe tbody tr th {\n",
       "        vertical-align: top;\n",
       "    }\n",
       "\n",
       "    .dataframe thead th {\n",
       "        text-align: right;\n",
       "    }\n",
       "</style>\n",
       "<table border=\"1\" class=\"dataframe\">\n",
       "  <thead>\n",
       "    <tr style=\"text-align: right;\">\n",
       "      <th></th>\n",
       "      <th>HEAD</th>\n",
       "      <th>FPGA</th>\n",
       "      <th>TDC_CHANNEL</th>\n",
       "      <th>ORBIT_CNT</th>\n",
       "      <th>BX_COUNTER</th>\n",
       "      <th>TDC_MEAS</th>\n",
       "    </tr>\n",
       "  </thead>\n",
       "  <tbody>\n",
       "    <tr>\n",
       "      <th>1300715</th>\n",
       "      <td>1</td>\n",
       "      <td>0</td>\n",
       "      <td>62</td>\n",
       "      <td>3869211171</td>\n",
       "      <td>762</td>\n",
       "      <td>14</td>\n",
       "    </tr>\n",
       "    <tr>\n",
       "      <th>1300716</th>\n",
       "      <td>1</td>\n",
       "      <td>1</td>\n",
       "      <td>4</td>\n",
       "      <td>3869211171</td>\n",
       "      <td>763</td>\n",
       "      <td>11</td>\n",
       "    </tr>\n",
       "    <tr>\n",
       "      <th>1300717</th>\n",
       "      <td>1</td>\n",
       "      <td>0</td>\n",
       "      <td>64</td>\n",
       "      <td>3869211171</td>\n",
       "      <td>764</td>\n",
       "      <td>0</td>\n",
       "    </tr>\n",
       "    <tr>\n",
       "      <th>1300718</th>\n",
       "      <td>1</td>\n",
       "      <td>0</td>\n",
       "      <td>139</td>\n",
       "      <td>3869211171</td>\n",
       "      <td>769</td>\n",
       "      <td>0</td>\n",
       "    </tr>\n",
       "    <tr>\n",
       "      <th>1300719</th>\n",
       "      <td>1</td>\n",
       "      <td>0</td>\n",
       "      <td>61</td>\n",
       "      <td>3869211171</td>\n",
       "      <td>762</td>\n",
       "      <td>18</td>\n",
       "    </tr>\n",
       "  </tbody>\n",
       "</table>\n",
       "</div>"
      ],
      "text/plain": [
       "         HEAD  FPGA  TDC_CHANNEL   ORBIT_CNT  BX_COUNTER  TDC_MEAS\n",
       "1300715     1     0           62  3869211171         762        14\n",
       "1300716     1     1            4  3869211171         763        11\n",
       "1300717     1     0           64  3869211171         764         0\n",
       "1300718     1     0          139  3869211171         769         0\n",
       "1300719     1     0           61  3869211171         762        18"
      ]
     },
     "execution_count": 21,
     "metadata": {},
     "output_type": "execute_result"
    }
   ],
   "source": [
    "file_name = \"~/data/data_000637.txt\"\n",
    "N = 1e4\n",
    "\n",
    "data = pd.read_csv(file_name, skiprows = lambda x: x > 0 and x <= N)\n",
    "\n",
    "data.tail()"
   ]
  },
  {
   "cell_type": "markdown",
   "metadata": {},
   "source": [
    "#### 2)"
   ]
  },
  {
   "cell_type": "code",
   "execution_count": 49,
   "metadata": {},
   "outputs": [
    {
     "name": "stdout",
     "output_type": "stream",
     "text": [
      "ORBIT_CNT\n",
      "3869200267    1407\n",
      "3869200268    2918\n",
      "3869200269    2969\n",
      "3869200270       0\n",
      "3869200271     471\n",
      "              ... \n",
      "3869211167    2289\n",
      "3869211168    3065\n",
      "3869211169    2414\n",
      "3869211170    2588\n",
      "3869211171       0\n",
      "Name: BX_COUNTER, Length: 10633, dtype: int64\n"
     ]
    }
   ],
   "source": [
    "df = data.loc[data['TDC_CHANNEL'] == 62]\n",
    "#print(df.head(10))\n",
    "bx_min = df.groupby('ORBIT_CNT').min('BX_COUNTER')['BX_COUNTER']\n",
    "bx_max = df.groupby('ORBIT_CNT').max('BX_COUNTER')['BX_COUNTER']\n",
    "\n",
    "x = bx_max - bx_min\n",
    "print(x)"
   ]
  },
  {
   "cell_type": "code",
   "execution_count": null,
   "metadata": {},
   "outputs": [],
   "source": []
  }
 ],
 "metadata": {
  "kernelspec": {
   "display_name": "Python 3 (ipykernel)",
   "language": "python",
   "name": "python3"
  },
  "language_info": {
   "codemirror_mode": {
    "name": "ipython",
    "version": 3
   },
   "file_extension": ".py",
   "mimetype": "text/x-python",
   "name": "python",
   "nbconvert_exporter": "python",
   "pygments_lexer": "ipython3",
   "version": "3.9.7"
  }
 },
 "nbformat": 4,
 "nbformat_minor": 2
}
