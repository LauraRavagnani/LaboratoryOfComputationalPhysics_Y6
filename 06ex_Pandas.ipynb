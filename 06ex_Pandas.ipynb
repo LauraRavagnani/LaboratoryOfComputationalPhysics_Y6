{
 "cells": [
  {
   "cell_type": "markdown",
   "metadata": {},
   "source": [
    "## Pandas analysis\n",
    "\n",
    "This exercise consists in analyzing a dataset containg timing information from a series of Time-to-Digital-Converters (TDC) implemented in a couple of FPGAs. Each measurement (i.e. each row of the input file) consists of a flag that specifies the type of message ('HEAD', which in this case is always 1), two addresses of the TDC providing the signal ('FPGA' and 'TDC_CHANNEL'), and the timing information ('ORBIT_CNT', 'BX_COUNTER', and 'TDC_MEAS'). Each TDC count corresponds to 25/30 ns, whereas a unit of BX_COUNTER corresponds to 25 ns, and the ORBIT_CNT is increased every 'x' BX_COUNTER. This allows to store the time in a similar way to hours, minutes and seconds."
   ]
  },
  {
   "cell_type": "code",
   "execution_count": 3,
   "metadata": {},
   "outputs": [
    {
     "name": "stdout",
     "output_type": "stream",
     "text": [
      "--2024-02-07 21:38:43--  https://www.dropbox.com/s/xvjzaxzz3ysphme/data_000637.txt\n",
      "Risoluzione di www.dropbox.com (www.dropbox.com)... 2620:100:6025:18::a27d:4512, 162.125.69.18\n",
      "Connessione a www.dropbox.com (www.dropbox.com)|2620:100:6025:18::a27d:4512|:443... connesso.\n",
      "Richiesta HTTP inviata, in attesa di risposta... 302 Found\n",
      "Posizione: /s/raw/xvjzaxzz3ysphme/data_000637.txt [segue]\n",
      "--2024-02-07 21:38:43--  https://www.dropbox.com/s/raw/xvjzaxzz3ysphme/data_000637.txt\n",
      "Riutilizzo della connessione esistente a [www.dropbox.com]:443.\n",
      "Richiesta HTTP inviata, in attesa di risposta... 302 Found\n",
      "Posizione: https://uccbe14e8f2b80d26d24cddd6a56.dl.dropboxusercontent.com/cd/0/inline/CM1j6bc9i3h08zQL2oFCIZhNySNdqMil_rYsjjC1XguacQpGJ5N2uZUpqLOCc9cXvvdzucFHsFKnbs5A72asI5yRPKymW84XCIhgCUor8OpMuG1llO-qIS8oEUQzKnjKHYw/file# [segue]\n",
      "--2024-02-07 21:38:44--  https://uccbe14e8f2b80d26d24cddd6a56.dl.dropboxusercontent.com/cd/0/inline/CM1j6bc9i3h08zQL2oFCIZhNySNdqMil_rYsjjC1XguacQpGJ5N2uZUpqLOCc9cXvvdzucFHsFKnbs5A72asI5yRPKymW84XCIhgCUor8OpMuG1llO-qIS8oEUQzKnjKHYw/file\n",
      "Risoluzione di uccbe14e8f2b80d26d24cddd6a56.dl.dropboxusercontent.com (uccbe14e8f2b80d26d24cddd6a56.dl.dropboxusercontent.com)... 2620:100:6025:15::a27d:450f, 162.125.69.15\n",
      "Connessione a uccbe14e8f2b80d26d24cddd6a56.dl.dropboxusercontent.com (uccbe14e8f2b80d26d24cddd6a56.dl.dropboxusercontent.com)|2620:100:6025:15::a27d:450f|:443... connesso.\n",
      "Richiesta HTTP inviata, in attesa di risposta... 200 OK\n",
      "Lunghezza: 33179236 (32M) [text/plain]\n",
      "Salvataggio in: «data_000637.txt»\n",
      "\n",
      "data_000637.txt     100%[===================>]  31,64M  24,5MB/s    in 1,3s    \n",
      "\n",
      "2024-02-07 21:38:46 (24,5 MB/s) - «data_000637.txt» salvato [33179236/33179236]\n",
      "\n"
     ]
    }
   ],
   "source": [
    "# If you didn't download it yet, please get the relevant file now!\n",
    "!wget https://www.dropbox.com/s/xvjzaxzz3ysphme/data_000637.txt"
   ]
  },
  {
   "cell_type": "markdown",
   "metadata": {},
   "source": [
    "1\\. Create a Pandas DataFrame reading N rows of the 'data_000637.txt' dataset. Choose N to be smaller than or equal to the maximum number of rows and larger that 10k.\n",
    "\n",
    "2\\. Find out the number of BX in a ORBIT (the value 'x').\n",
    "\n",
    "3\\. Find out how much the data taking lasted. You can either make an estimate based on the fraction of the measurements (rows) you read, or perform this check precisely by reading out the whole dataset.\n",
    "\n",
    "4\\. Create a new column with the absolute time in ns (as a combination of the other three columns with timing information).\n",
    "\n",
    "5\\. Replace the values (all 1) of the HEAD column randomly with 0 or 1.\n",
    "\n",
    "6\\. Create a new DataFrame that contains only the rows with HEAD=1.\n",
    "\n",
    "7\\. Make two occupancy plots (one for each FPGA), i.e. plot the number of counts per TDC channel\n",
    "\n",
    "8\\. Use the groupby method to find out the noisy channels, i.e. the TDC channels with most counts (say the top 3)\n",
    "\n",
    "9\\. Count the number of unique orbits. Count the number of unique orbits with at least one measurement from TDC_CHANNEL=139"
   ]
  },
  {
   "cell_type": "code",
   "execution_count": 1,
   "metadata": {},
   "outputs": [],
   "source": [
    "import pandas as pd\n",
    "import numpy as np\n",
    "import seaborn as sns\n",
    "import numpy.random as npr\n",
    "import matplotlib.pyplot as plt"
   ]
  },
  {
   "cell_type": "code",
   "execution_count": 2,
   "metadata": {},
   "outputs": [],
   "source": [
    "npr.seed(2104271)"
   ]
  },
  {
   "cell_type": "markdown",
   "metadata": {},
   "source": [
    "#### 1)"
   ]
  },
  {
   "cell_type": "code",
   "execution_count": 43,
   "metadata": {},
   "outputs": [
    {
     "name": "stdout",
     "output_type": "stream",
     "text": [
      "   HEAD  FPGA  TDC_CHANNEL   ORBIT_CNT  BX_COUNTER  TDC_MEAS\n",
      "0     1     0          123  3869200167        2374        26\n",
      "1     1     0          124  3869200167        2374        27\n",
      "2     1     0           63  3869200167        2553        28\n",
      "3     1     0           64  3869200167        2558        19\n",
      "4     1     0           64  3869200167        2760        25\n"
     ]
    }
   ],
   "source": [
    "N = 50000\n",
    "data = pd.read_csv('data_000637.txt', nrows=N)\n",
    "print(data.head())"
   ]
  },
  {
   "cell_type": "markdown",
   "metadata": {},
   "source": [
    "#### 2)"
   ]
  },
  {
   "cell_type": "code",
   "execution_count": 24,
   "metadata": {},
   "outputs": [
    {
     "name": "stdout",
     "output_type": "stream",
     "text": [
      "the number of bx in a orbit is 3564\n"
     ]
    }
   ],
   "source": [
    "bx = max(data['BX_COUNTER']) + 1\n",
    "print(f'the number of bx in a orbit is {bx}')"
   ]
  },
  {
   "cell_type": "markdown",
   "metadata": {},
   "source": [
    "#### 3)"
   ]
  },
  {
   "cell_type": "code",
   "execution_count": 30,
   "metadata": {},
   "outputs": [
    {
     "name": "stdout",
     "output_type": "stream",
     "text": [
      "the simulation lasted 0.044253083312500004 s\n"
     ]
    }
   ],
   "source": [
    "tdc_meas = 25/30 # ns\n",
    "bx_counter = 25 # ns\n",
    "orbit_count = 25 * bx   # ns\n",
    "\n",
    "def time(n):\n",
    "    t = data['TDC_MEAS'][n] * tdc_meas + data['BX_COUNTER'][n] * bx_counter + data['ORBIT_CNT'][n] * orbit_count\n",
    "    return(t)\n",
    "\n",
    "tot_time = time(N-1) - time(0)\n",
    "print(f'the simulation lasted {tot_time * 1e-9} s')"
   ]
  },
  {
   "cell_type": "markdown",
   "metadata": {},
   "source": [
    "#### 4)"
   ]
  },
  {
   "cell_type": "code",
   "execution_count": 33,
   "metadata": {},
   "outputs": [
    {
     "name": "stdout",
     "output_type": "stream",
     "text": [
      "   HEAD  FPGA  TDC_CHANNEL   ORBIT_CNT  BX_COUNTER  TDC_MEAS          TIME  \\\n",
      "0     1     0          123  3869200167        2374        26  3.447457e+14   \n",
      "1     1     0          124  3869200167        2374        27  3.447457e+14   \n",
      "2     1     0           63  3869200167        2553        28  3.447457e+14   \n",
      "3     1     0           64  3869200167        2558        19  3.447457e+14   \n",
      "4     1     0           64  3869200167        2760        25  3.447457e+14   \n",
      "\n",
      "        TIME_ns  \n",
      "0  3.447457e+14  \n",
      "1  3.447457e+14  \n",
      "2  3.447457e+14  \n",
      "3  3.447457e+14  \n",
      "4  3.447457e+14  \n"
     ]
    }
   ],
   "source": [
    "data['TIME_ns'] = data['TDC_MEAS'] * tdc_meas + data['BX_COUNTER'] * bx_counter + data['ORBIT_CNT'] * orbit_count\n",
    "print(data.head())"
   ]
  },
  {
   "cell_type": "markdown",
   "metadata": {},
   "source": [
    "#### 5)"
   ]
  },
  {
   "cell_type": "code",
   "execution_count": 45,
   "metadata": {},
   "outputs": [
    {
     "name": "stdout",
     "output_type": "stream",
     "text": [
      "   HEAD  FPGA  TDC_CHANNEL   ORBIT_CNT  BX_COUNTER  TDC_MEAS\n",
      "0     0     0          123  3869200167        2374        26\n",
      "1     1     0          124  3869200167        2374        27\n",
      "2     1     0           63  3869200167        2553        28\n",
      "3     1     0           64  3869200167        2558        19\n",
      "4     0     0           64  3869200167        2760        25\n"
     ]
    }
   ],
   "source": [
    "data['HEAD'] = npr.randint(0, 2, N)\n",
    "print(data.head())"
   ]
  },
  {
   "cell_type": "markdown",
   "metadata": {},
   "source": [
    "#### 6)"
   ]
  },
  {
   "cell_type": "code",
   "execution_count": 46,
   "metadata": {},
   "outputs": [
    {
     "name": "stdout",
     "output_type": "stream",
     "text": [
      "   HEAD  FPGA  TDC_CHANNEL   ORBIT_CNT  BX_COUNTER  TDC_MEAS\n",
      "1     1     0          124  3869200167        2374        27\n",
      "2     1     0           63  3869200167        2553        28\n",
      "3     1     0           64  3869200167        2558        19\n",
      "5     1     0           63  3869200167        2762         4\n",
      "7     1     0          139  3869200167        2776         0\n"
     ]
    }
   ],
   "source": [
    "df1 = data[data['HEAD'] == 1]\n",
    "print(df1.head())"
   ]
  },
  {
   "cell_type": "markdown",
   "metadata": {},
   "source": [
    "#### 7)"
   ]
  },
  {
   "cell_type": "code",
   "execution_count": 50,
   "metadata": {},
   "outputs": [
    {
     "data": {
      "text/plain": [
       "<AxesSubplot:xlabel='TDC_CHANNEL', ylabel='Count'>"
      ]
     },
     "execution_count": 50,
     "metadata": {},
     "output_type": "execute_result"
    },
    {
     "data": {
      "image/png": "[encoded data removed]",
      "text/plain": [
       "<Figure size 432x288 with 1 Axes>"
      ]
     },
     "metadata": {
      "needs_background": "light"
     },
     "output_type": "display_data"
    }
   ],
   "source": [
    "sns.histplot(data, x = data['TDC_CHANNEL'], hue='FPGA')"
   ]
  },
  {
   "cell_type": "markdown",
   "metadata": {},
   "source": [
    "#### 8)"
   ]
  },
  {
   "cell_type": "code",
   "execution_count": 82,
   "metadata": {},
   "outputs": [
    {
     "name": "stdout",
     "output_type": "stream",
     "text": [
      "   FPGA  TDC_CHANNEL  HEAD  ORBIT_CNT  BX_COUNTER  TDC_MEAS\n",
      "0     0            1    40         40          40        40\n",
      "1     0            2    56         56          56        56\n",
      "2     0            3    57         57          57        57\n",
      "3     0            4    72         72          72        72\n",
      "4     0            5    59         59          59        59 \n",
      "\n",
      "     FPGA  TDC_CHANNEL  HEAD  ORBIT_CNT  BX_COUNTER  TDC_MEAS\n",
      "117     0          139  2915       2915        2915      2915\n",
      "56      0           64  2463       2463        2463      2463\n",
      "55      0           63  2438       2438        2438      2438\n",
      "53      0           61  1845       1845        1845      1845\n",
      "54      0           62  1826       1826        1826      1826 \n",
      "\n",
      "the most noisy channels for FPGA 0 are [139  64  63]\n",
      "the most noisy channels for FPGA 1 are [139   2   1]\n"
     ]
    }
   ],
   "source": [
    "data_group = data.groupby(['FPGA', 'TDC_CHANNEL'], as_index=False).count()\n",
    "print(data_group.head(), '\\n')\n",
    "\n",
    "data_sorted = data_group.sort_values(by = 'HEAD', ascending=False)\n",
    "print(data_sorted.head(), '\\n')\n",
    "\n",
    "noisy_0 = data_sorted[data_sorted['FPGA'] == 0].iloc[:3]\n",
    "noisy_1 = data_sorted[data_sorted['FPGA'] == 1].iloc[:3]\n",
    "\n",
    "print('the most noisy channels for FPGA 0 are', noisy_0['TDC_CHANNEL'].values)\n",
    "print('the most noisy channels for FPGA 1 are', noisy_1['TDC_CHANNEL'].values)"
   ]
  },
  {
   "cell_type": "markdown",
   "metadata": {},
   "source": [
    "#### 9)"
   ]
  },
  {
   "cell_type": "code",
   "execution_count": 90,
   "metadata": {},
   "outputs": [
    {
     "name": "stdout",
     "output_type": "stream",
     "text": [
      "the total number of unique orbits is 498\n",
      "the number of unique orbits with at least one measurement from TDC_CHANNEL 193 is: 498\n"
     ]
    }
   ],
   "source": [
    "unique_orbit = data['ORBIT_CNT'].nunique()\n",
    "print(f'the total number of unique orbits is {unique_orbit}')\n",
    "\n",
    "unique_orbit_139 = data[data['TDC_CHANNEL'] == 139]['ORBIT_CNT'].nunique()\n",
    "print(f'the number of unique orbits with at least one measurement from TDC_CHANNEL 193 is: {unique_orbit_139}')"
   ]
  }
 ],
 "metadata": {
  "kernelspec": {
   "display_name": "Python 3 (ipykernel)",
   "language": "python",
   "name": "python3"
  },
  "language_info": {
   "codemirror_mode": {
    "name": "ipython",
    "version": 3
   },
   "file_extension": ".py",
   "mimetype": "text/x-python",
   "name": "python",
   "nbconvert_exporter": "python",
   "pygments_lexer": "ipython3",
   "version": "3.9.7"
  }
 },
 "nbformat": 4,
 "nbformat_minor": 2
}
