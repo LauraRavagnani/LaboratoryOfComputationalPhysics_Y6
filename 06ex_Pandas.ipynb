{
 "cells": [
  {
   "cell_type": "markdown",
   "metadata": {},
   "source": [
    "## Pandas analysis\n",
    "\n",
    "This exercise consists in analyzing a dataset containg timing information from a series of Time-to-Digital-Converters (TDC) implemented in a couple of FPGAs. Each measurement (i.e. each row of the input file) consists of a flag that specifies the type of message ('HEAD', which in this case is always 1), two addresses of the TDC providing the signal ('FPGA' and 'TDC_CHANNEL'), and the timing information ('ORBIT_CNT', 'BX_COUNTER', and 'TDC_MEAS'). Each TDC count corresponds to 25/30 ns, whereas a unit of BX_COUNTER corresponds to 25 ns, and the ORBIT_CNT is increased every 'x' BX_COUNTER. This allows to store the time in a similar way to hours, minutes and seconds."
   ]
  },
  {
   "cell_type": "code",
   "execution_count": 14,
   "metadata": {},
   "outputs": [
    {
     "name": "stdout",
     "output_type": "stream",
     "text": [
      "--2024-01-21 11:59:48--  https://www.dropbox.com/s/xvjzaxzz3ysphme/data_000637.txt\n"
     ]
    },
    {
     "name": "stdout",
     "output_type": "stream",
     "text": [
      "Risoluzione di www.dropbox.com (www.dropbox.com)... 162.125.69.18\n",
      "Connessione a www.dropbox.com (www.dropbox.com)|162.125.69.18|:443... connesso.\n",
      "Richiesta HTTP inviata, in attesa di risposta... 302 Found\n",
      "Posizione: /s/raw/xvjzaxzz3ysphme/data_000637.txt [segue]\n",
      "--2024-01-21 11:59:48--  https://www.dropbox.com/s/raw/xvjzaxzz3ysphme/data_000637.txt\n",
      "Riutilizzo della connessione esistente a www.dropbox.com:443.\n",
      "Richiesta HTTP inviata, in attesa di risposta... 302 Found\n",
      "Posizione: https://ucf317f1da558bdeca7c1c5340cc.dl.dropboxusercontent.com/cd/0/inline/CLy5tznrv7B1HLVWVje3TmTm7HRls0_x4CujJeLU-vcOjP0dHZ4BrH8YFrh0_WDJ4MuRyFdcy_MwLeqJ0AHcHLhMJ_bk7O9ugjksq6fnQx7dPJlYzPGsepfF97kP3OCwKxA/file# [segue]\n",
      "--2024-01-21 11:59:49--  https://ucf317f1da558bdeca7c1c5340cc.dl.dropboxusercontent.com/cd/0/inline/CLy5tznrv7B1HLVWVje3TmTm7HRls0_x4CujJeLU-vcOjP0dHZ4BrH8YFrh0_WDJ4MuRyFdcy_MwLeqJ0AHcHLhMJ_bk7O9ugjksq6fnQx7dPJlYzPGsepfF97kP3OCwKxA/file\n",
      "Risoluzione di ucf317f1da558bdeca7c1c5340cc.dl.dropboxusercontent.com (ucf317f1da558bdeca7c1c5340cc.dl.dropboxusercontent.com)... 162.125.69.15\n",
      "Connessione a ucf317f1da558bdeca7c1c5340cc.dl.dropboxusercontent.com (ucf317f1da558bdeca7c1c5340cc.dl.dropboxusercontent.com)|162.125.69.15|:443... connesso.\n",
      "Richiesta HTTP inviata, in attesa di risposta... 200 OK\n",
      "Lunghezza: 33179236 (32M) [text/plain]\n",
      "Salvataggio in: «/Users/laura/data/data_000637.txt.7»\n",
      "\n",
      "data_000637.txt.7    89%[================>   ]  28,36M  1,05MB/s    prev 3s    ^C\n"
     ]
    }
   ],
   "source": [
    "# If you didn't download it yet, please get the relevant file now!\n",
    "!wget https://www.dropbox.com/s/xvjzaxzz3ysphme/data_000637.txt -P ~/data/"
   ]
  },
  {
   "cell_type": "markdown",
   "metadata": {},
   "source": [
    "1\\. Create a Pandas DataFrame reading N rows of the 'data_000637.txt' dataset. Choose N to be smaller than or equal to the maximum number of rows and larger that 10k.\n",
    "\n",
    "2\\. Find out the number of BX in a ORBIT (the value 'x').\n",
    "\n",
    "3\\. Find out how much the data taking lasted. You can either make an estimate based on the fraction of the measurements (rows) you read, or perform this check precisely by reading out the whole dataset.\n",
    "\n",
    "4\\. Create a new column with the absolute time in ns (as a combination of the other three columns with timing information).\n",
    "\n",
    "5\\. Replace the values (all 1) of the HEAD column randomly with 0 or 1.\n",
    "\n",
    "6\\. Create a new DataFrame that contains only the rows with HEAD=1.\n",
    "\n",
    "7\\. Make two occupancy plots (one for each FPGA), i.e. plot the number of counts per TDC channel\n",
    "\n",
    "8\\. Use the groupby method to find out the noisy channels, i.e. the TDC channels with most counts (say the top 3)\n",
    "\n",
    "9\\. Count the number of unique orbits. Count the number of unique orbits with at least one measurement from TDC_CHANNEL=139"
   ]
  },
  {
   "cell_type": "code",
   "execution_count": 24,
   "metadata": {},
   "outputs": [],
   "source": [
    "import pandas as pd\n",
    "import numpy as np\n",
    "import seaborn as sns\n",
    "import numpy.random as npr\n",
    "import matplotlib.pyplot as plt"
   ]
  },
  {
   "cell_type": "code",
   "execution_count": 16,
   "metadata": {},
   "outputs": [],
   "source": [
    "npr.seed(2104271)"
   ]
  },
  {
   "cell_type": "markdown",
   "metadata": {},
   "source": [
    "#### 1)"
   ]
  },
  {
   "cell_type": "code",
   "execution_count": 17,
   "metadata": {},
   "outputs": [
    {
     "name": "stdout",
     "output_type": "stream",
     "text": [
      "   HEAD  FPGA  TDC_CHANNEL   ORBIT_CNT  BX_COUNTER  TDC_MEAS\n",
      "0     1     0          123  3869200167        2374        26\n",
      "1     1     0          124  3869200167        2374        27\n",
      "2     1     0           63  3869200167        2553        28\n",
      "3     1     0           64  3869200167        2558        19\n",
      "4     1     0           64  3869200167        2760        25 \n",
      "\n"
     ]
    }
   ],
   "source": [
    "N = 1e5\n",
    "file_name = \"~/data/data_000637.txt\"\n",
    "\n",
    "# create dataframe\n",
    "data = pd.read_csv(file_name, nrows = N)\n",
    "print(data.head(), '\\n')"
   ]
  },
  {
   "cell_type": "markdown",
   "metadata": {},
   "source": [
    "#### 2)"
   ]
  },
  {
   "cell_type": "code",
   "execution_count": 18,
   "metadata": {},
   "outputs": [
    {
     "name": "stdout",
     "output_type": "stream",
     "text": [
      "The number of BX in a orbit is: 3564 \n",
      "\n"
     ]
    }
   ],
   "source": [
    "# number of bx in a orbit\n",
    "bx = data['BX_COUNTER'].max()\n",
    "print('The number of BX in a orbit is:', bx + 1, '\\n')"
   ]
  },
  {
   "cell_type": "markdown",
   "metadata": {},
   "source": [
    "#### 3)"
   ]
  },
  {
   "cell_type": "code",
   "execution_count": 19,
   "metadata": {},
   "outputs": [
    {
     "name": "stdout",
     "output_type": "stream",
     "text": [
      "The data taking lasted 0.0885453133125 seconds\n",
      "\n"
     ]
    }
   ],
   "source": [
    "# how much the data taking lasted\n",
    "tdc_count = 25/30   # ns\n",
    "bx_unit = 25    # ns\n",
    "\n",
    "data = data.sort_values(by = ['ORBIT_CNT', 'BX_COUNTER', 'TDC_MEAS'], ascending = True)\n",
    "start = data.iloc[0]['TDC_MEAS'] * tdc_count + data.iloc[0]['BX_COUNTER'] * bx_unit + data.iloc[0]['ORBIT_CNT'] * bx * bx_unit\n",
    "end = data.iloc[-1]['TDC_MEAS'] * tdc_count + data.iloc[-1]['BX_COUNTER'] * bx_unit + data.iloc[-1]['ORBIT_CNT'] * bx * bx_unit\n",
    "\n",
    "print('The data taking lasted', (end - start) * 1e-9, 'seconds\\n')"
   ]
  },
  {
   "cell_type": "markdown",
   "metadata": {},
   "source": [
    "#### 4)"
   ]
  },
  {
   "cell_type": "code",
   "execution_count": 20,
   "metadata": {},
   "outputs": [
    {
     "name": "stdout",
     "output_type": "stream",
     "text": [
      "   HEAD  FPGA  TDC_CHANNEL   ORBIT_CNT  BX_COUNTER  TDC_MEAS          TIME\n",
      "0     1     0          123  3869200167        2374        26  3.446490e+14\n",
      "1     1     0          124  3869200167        2374        27  3.446490e+14\n",
      "2     1     0           63  3869200167        2553        28  3.446490e+14\n",
      "3     1     0           64  3869200167        2558        19  3.446490e+14\n",
      "4     1     0           64  3869200167        2760        25  3.446490e+14 \n",
      "\n"
     ]
    }
   ],
   "source": [
    "# create a new column with the absolute time in ns\n",
    "data[\"TIME\"] = data['TDC_MEAS'] * tdc_count + data['BX_COUNTER'] * bx_unit + data['ORBIT_CNT'] * bx * bx_unit\n",
    "print(data.head(), '\\n')"
   ]
  },
  {
   "cell_type": "markdown",
   "metadata": {},
   "source": [
    "#### 5)"
   ]
  },
  {
   "cell_type": "code",
   "execution_count": 21,
   "metadata": {},
   "outputs": [
    {
     "name": "stdout",
     "output_type": "stream",
     "text": [
      "   HEAD  FPGA  TDC_CHANNEL   ORBIT_CNT  BX_COUNTER  TDC_MEAS          TIME\n",
      "0     0     0          123  3869200167        2374        26  3.446490e+14\n",
      "1     0     0          124  3869200167        2374        27  3.446490e+14\n",
      "2     1     0           63  3869200167        2553        28  3.446490e+14\n",
      "3     0     0           64  3869200167        2558        19  3.446490e+14\n",
      "4     0     0           64  3869200167        2760        25  3.446490e+14\n"
     ]
    }
   ],
   "source": [
    "# Replace the values (all 1) of the HEAD column randomly with 0 or 1\n",
    "data['HEAD'] = npr.randint(0,2, len(data['HEAD']))\n",
    "print(data.head())"
   ]
  },
  {
   "cell_type": "markdown",
   "metadata": {},
   "source": [
    "#### 6)"
   ]
  },
  {
   "cell_type": "code",
   "execution_count": 23,
   "metadata": {},
   "outputs": [
    {
     "name": "stdout",
     "output_type": "stream",
     "text": [
      "    HEAD  FPGA  TDC_CHANNEL   ORBIT_CNT  BX_COUNTER  TDC_MEAS          TIME\n",
      "2      1     0           63  3869200167        2553        28  3.446490e+14\n",
      "8      1     0           62  3869200167        2774        21  3.446490e+14\n",
      "11     1     0           64  3869200167        2786        19  3.446490e+14\n",
      "16     1     1            8  3869200167        2787        14  3.446490e+14\n",
      "9      1     0           60  3869200167        2788         7  3.446490e+14\n"
     ]
    }
   ],
   "source": [
    "# new dataframe that contains only the rows with HEAD=1\n",
    "data2 = data[data['HEAD'] == 1]\n",
    "print(data2.head())"
   ]
  },
  {
   "cell_type": "markdown",
   "metadata": {},
   "source": [
    "#### 7)"
   ]
  },
  {
   "cell_type": "code",
   "execution_count": 26,
   "metadata": {},
   "outputs": [
    {
     "data": {
      "image/png": "[encoded data removed]",
      "text/plain": [
       "<Figure size 432x288 with 1 Axes>"
      ]
     },
     "metadata": {
      "needs_background": "light"
     },
     "output_type": "display_data"
    }
   ],
   "source": [
    "# plot number of counts per TDC channel\n",
    "sns.histplot(data2, x = 'TDC_CHANNEL', hue = 'FPGA')\n",
    "plt.show()"
   ]
  },
  {
   "cell_type": "markdown",
   "metadata": {},
   "source": [
    "#### 8)"
   ]
  },
  {
   "cell_type": "code",
   "execution_count": 29,
   "metadata": {},
   "outputs": [
    {
     "name": "stdout",
     "output_type": "stream",
     "text": [
      "   TDC_CHANNEL  FPGA  HEAD  ORBIT_CNT  BX_COUNTER  TDC_MEAS  TIME\n",
      "0            1     0    39         39          39        39    39\n",
      "1            1     1  1064       1064        1064      1064  1064\n",
      "2            2     0    41         41          41        41    41\n",
      "3            2     1  1268       1268        1268      1268  1268\n",
      "4            3     0    65         65          65        65    65 \n",
      "\n",
      "Noisy channels for FPGA 0:\n",
      "      TDC_CHANNEL  FPGA  COUNTS\n",
      "249          139     0    2966\n",
      "117           63     0    2409\n",
      "119           64     0    2381 \n",
      "\n",
      "Noisy channels for FPGA 1:\n",
      "      TDC_CHANNEL  FPGA  COUNTS\n",
      "3              2     1    1268\n",
      "250          139     1    1218\n",
      "1              1     1    1064 \n",
      "\n"
     ]
    }
   ],
   "source": [
    "# Use the groupby method to find out the noisy channels\n",
    "data_group = data2.groupby(['TDC_CHANNEL', 'FPGA'], as_index=False).count()\n",
    "print(data_group.head(), '\\n')\n",
    "\n",
    "sort = data_group.sort_values(by = 'HEAD', ascending = False)\n",
    "sort = sort.loc[:, ['TDC_CHANNEL', 'FPGA', 'HEAD']].rename(columns = {'HEAD' : 'COUNTS'})\n",
    "print('Noisy channels for FPGA 0:\\n', sort[sort['FPGA'] == 0].iloc[:3, :], '\\n')\n",
    "print('Noisy channels for FPGA 1:\\n',sort[sort['FPGA'] == 1].iloc[:3, :], '\\n')"
   ]
  },
  {
   "cell_type": "markdown",
   "metadata": {},
   "source": [
    "#### 9)"
   ]
  },
  {
   "cell_type": "code",
   "execution_count": 31,
   "metadata": {},
   "outputs": [
    {
     "name": "stdout",
     "output_type": "stream",
     "text": [
      "Number of unique orbits: 995\n",
      "Number of unique orbits with at least one measurement from channel 139: 994\n"
     ]
    }
   ],
   "source": [
    "# unique orbits\n",
    "unique = data['ORBIT_CNT'].nunique()\n",
    "print('Number of unique orbits:', unique)\n",
    "\n",
    "# unique orbit channel 139\n",
    "unique_139 = data[data['TDC_CHANNEL'] == 139]['ORBIT_CNT'].nunique()\n",
    "print('Number of unique orbits with at least one measurement from channel 139:', unique_139)"
   ]
  }
 ],
 "metadata": {
  "kernelspec": {
   "display_name": "Python 3 (ipykernel)",
   "language": "python",
   "name": "python3"
  },
  "language_info": {
   "codemirror_mode": {
    "name": "ipython",
    "version": 3
   },
   "file_extension": ".py",
   "mimetype": "text/x-python",
   "name": "python",
   "nbconvert_exporter": "python",
   "pygments_lexer": "ipython3",
   "version": "3.9.7"
  }
 },
 "nbformat": 4,
 "nbformat_minor": 2
}
