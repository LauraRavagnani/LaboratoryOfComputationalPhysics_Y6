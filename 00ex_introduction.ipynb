{
 "cells": [
  {
   "cell_type": "markdown",
   "metadata": {},
   "source": [
    "1. The MickeyMouse problem\n",
    "\n",
    "a) Write a program that prints the numbers from 1 to 100. But for multiples of 3 print `Mickey` instead of the corresponding number and for the multiples of 5 print `Mouse`. For numbers which are multiples of both three and five print `MickeyMouse`\n",
    "\n",
    "b) Put the result in a tuple and substitute `Mickey` with `Donald` and `Mouse` with `Duck`"
   ]
  },
  {
   "cell_type": "markdown",
   "metadata": {},
   "source": [
    "#### a)"
   ]
  },
  {
   "cell_type": "code",
   "execution_count": 1,
   "metadata": {},
   "outputs": [
    {
     "name": "stdout",
     "output_type": "stream",
     "text": [
      "1\n",
      "2\n",
      "Mickey\n",
      "4\n",
      "Mouse\n",
      "Mickey\n",
      "7\n",
      "8\n",
      "Mickey\n",
      "Mouse\n",
      "11\n",
      "Mickey\n",
      "13\n",
      "14\n",
      "MickeyMouse\n",
      "16\n",
      "17\n",
      "Mickey\n",
      "19\n",
      "Mouse\n",
      "Mickey\n",
      "22\n",
      "23\n",
      "Mickey\n",
      "Mouse\n",
      "26\n",
      "Mickey\n",
      "28\n",
      "29\n",
      "MickeyMouse\n",
      "31\n",
      "32\n",
      "Mickey\n",
      "34\n",
      "Mouse\n",
      "Mickey\n",
      "37\n",
      "38\n",
      "Mickey\n",
      "Mouse\n",
      "41\n",
      "Mickey\n",
      "43\n",
      "44\n",
      "MickeyMouse\n",
      "46\n",
      "47\n",
      "Mickey\n",
      "49\n",
      "Mouse\n",
      "Mickey\n",
      "52\n",
      "53\n",
      "Mickey\n",
      "Mouse\n",
      "56\n",
      "Mickey\n",
      "58\n",
      "59\n",
      "MickeyMouse\n",
      "61\n",
      "62\n",
      "Mickey\n",
      "64\n",
      "Mouse\n",
      "Mickey\n",
      "67\n",
      "68\n",
      "Mickey\n",
      "Mouse\n",
      "71\n",
      "Mickey\n",
      "73\n",
      "74\n",
      "MickeyMouse\n",
      "76\n",
      "77\n",
      "Mickey\n",
      "79\n",
      "Mouse\n",
      "Mickey\n",
      "82\n",
      "83\n",
      "Mickey\n",
      "Mouse\n",
      "86\n",
      "Mickey\n",
      "88\n",
      "89\n",
      "MickeyMouse\n",
      "91\n",
      "92\n",
      "Mickey\n",
      "94\n",
      "Mouse\n",
      "Mickey\n",
      "97\n",
      "98\n",
      "Mickey\n",
      "Mouse\n"
     ]
    }
   ],
   "source": [
    "for i in range(1, 101):\n",
    "    if i % 3 == 0 and i % 5 == 0:\n",
    "        print(\"MickeyMouse\")\n",
    "    elif i % 3 == 0:\n",
    "        print(\"Mickey\")\n",
    "    elif i % 5 == 0:\n",
    "        print(\"Mouse\")\n",
    "    else :\n",
    "        print(i)\n",
    "    "
   ]
  },
  {
   "cell_type": "markdown",
   "metadata": {},
   "source": [
    "#### b)"
   ]
  },
  {
   "cell_type": "code",
   "execution_count": 2,
   "metadata": {},
   "outputs": [
    {
     "name": "stdout",
     "output_type": "stream",
     "text": [
      "[1, 2, 'Donald', 4, 'Duck', 'Donald', 7, 8, 'Donald', 'Duck', 11, 'Donald', 13, 14, 'DonaldDuck', 16, 17, 'Donald', 19, 'Duck', 'Donald', 22, 23, 'Donald', 'Duck', 26, 'Donald', 28, 29, 'DonaldDuck', 31, 32, 'Donald', 34, 'Duck', 'Donald', 37, 38, 'Donald', 'Duck', 41, 'Donald', 43, 44, 'DonaldDuck', 46, 47, 'Donald', 49, 'Duck', 'Donald', 52, 53, 'Donald', 'Duck', 56, 'Donald', 58, 59, 'DonaldDuck', 61, 62, 'Donald', 64, 'Duck', 'Donald', 67, 68, 'Donald', 'Duck', 71, 'Donald', 73, 74, 'DonaldDuck', 76, 77, 'Donald', 79, 'Duck', 'Donald', 82, 83, 'Donald', 'Duck', 86, 'Donald', 88, 89, 'DonaldDuck', 91, 92, 'Donald', 94, 'Duck', 'Donald', 97, 98, 'Donald', 'Duck']\n"
     ]
    }
   ],
   "source": [
    "topolino = []\n",
    "\n",
    "for i in range(1, 101):\n",
    "    if i % 3 == 0 and i % 5 == 0:\n",
    "        topolino.insert(i, \"DonaldDuck\")\n",
    "    elif i % 3 == 0:\n",
    "        topolino.insert(i, \"Donald\")\n",
    "    elif i % 5 == 0:\n",
    "        topolino.insert(i, \"Duck\")\n",
    "    else :\n",
    "        topolino.insert(i, i)\n",
    "\n",
    "print(topolino)"
   ]
  },
  {
   "cell_type": "markdown",
   "metadata": {},
   "source": [
    "2\\. The swap function\n",
    "\n",
    "Write a function that swap the values of two input variables x and y (whatever the type). Try to do that also without a temporary variable"
   ]
  },
  {
   "cell_type": "code",
   "execution_count": 3,
   "metadata": {},
   "outputs": [
    {
     "name": "stdout",
     "output_type": "stream",
     "text": [
      "x = 7 and y = albero\n"
     ]
    }
   ],
   "source": [
    "x = input(\"set the value of x \")\n",
    "y = input(\"set the value of y \")\n",
    "\n",
    "def swap(x, y):\n",
    "    a = x\n",
    "    b = y\n",
    "    x = b\n",
    "    y = a\n",
    "    \n",
    "    print(\"x =\", x, \"and y =\", y)\n",
    "\n",
    "swap(x, y)"
   ]
  },
  {
   "cell_type": "code",
   "execution_count": 4,
   "metadata": {},
   "outputs": [
    {
     "name": "stdout",
     "output_type": "stream",
     "text": [
      "x = 15 and y = dado\n"
     ]
    }
   ],
   "source": [
    "# without a temporary variable\n",
    "\n",
    "x = input(\"set the value of x \")\n",
    "y = input(\"set the value of y \")\n",
    "\n",
    "def swap2(a, b):\n",
    "    vec = (a, b)\n",
    "    b = vec[0]\n",
    "    a = vec[1]\n",
    "\n",
    "    print(\"x =\", a, \"and y =\", b)\n",
    "\n",
    "swap2(x, y)"
   ]
  },
  {
   "cell_type": "markdown",
   "metadata": {},
   "source": [
    "3\\. Computing the distance\n",
    "\n",
    "Write a function that calculates and returns the euclidean distance between two points *u* and *v*, where *u* and *v* are both 2-tuples *(x,y)*. For example, if *u=(3,0)* and *v=(0,4)*, the function should return 5"
   ]
  },
  {
   "cell_type": "code",
   "execution_count": 5,
   "metadata": {},
   "outputs": [
    {
     "data": {
      "text/plain": [
       "5.0"
      ]
     },
     "execution_count": 5,
     "metadata": {},
     "output_type": "execute_result"
    }
   ],
   "source": [
    "u = (3, 0)\n",
    "v = (0, 4)\n",
    "\n",
    "def distance(a, b):\n",
    "    dist = ((a[0] - b[0])**2 + (a[1] - b[1])**2)**0.5\n",
    "    return dist\n",
    "\n",
    "distance(u, v)"
   ]
  },
  {
   "cell_type": "markdown",
   "metadata": {},
   "source": [
    "4\\. Counting letters\n",
    "\n",
    "Write a program to calculate the number of times each character occurs in a given string *s*. Ignore differneces in capitalization"
   ]
  },
  {
   "cell_type": "code",
   "execution_count": 7,
   "metadata": {},
   "outputs": [],
   "source": [
    "s=\"Write a program that prints the numbers from 1 to 100. \\\n",
    "But for multiples of three print Mickey instead of the number and for the multiples of five print Mouse. \\\n",
    "For numbers which are multiples of both three and five print MickeyMouse\""
   ]
  },
  {
   "cell_type": "code",
   "execution_count": 8,
   "metadata": {},
   "outputs": [
    {
     "name": "stdout",
     "output_type": "stream",
     "text": [
      "w : 2\n",
      "r : 17\n",
      "i : 14\n",
      "t : 19\n",
      "e : 22\n",
      "  : 41\n",
      "a : 7\n",
      "p : 8\n",
      "o : 13\n",
      "g : 1\n",
      "m : 12\n",
      "h : 9\n",
      "n : 10\n",
      "s : 9\n",
      "u : 9\n",
      "b : 5\n",
      "f : 10\n",
      "1 : 2\n",
      "0 : 2\n",
      ". : 2\n",
      "l : 6\n",
      "c : 3\n",
      "k : 2\n",
      "y : 2\n",
      "d : 3\n",
      "v : 2\n"
     ]
    }
   ],
   "source": [
    "s1 = s.lower()\n",
    "dict = {}\n",
    "\n",
    "for i in s1:\n",
    "    dict[i] = s1.count(i)\n",
    "\n",
    "for i in dict:\n",
    "    print(i, \":\", dict[i])"
   ]
  },
  {
   "cell_type": "markdown",
   "metadata": {},
   "source": [
    "5\\. Isolating the unique\n",
    "\n",
    "Write a function that determines and count the unique numbers in the list *l*"
   ]
  },
  {
   "cell_type": "code",
   "execution_count": 9,
   "metadata": {},
   "outputs": [],
   "source": [
    "l = [36, 45, 58, 3, 74, 96, 64, 45, 31, 10, 24, 19, 33, 86, 99, 18, 63, 70, 85,\n",
    " 85, 63, 47, 56, 42, 70, 84, 88, 55, 20, 54, 8, 56, 51, 79, 81, 57, 37, 91,\n",
    " 1, 84, 84, 36, 66, 9, 89, 50, 42, 91, 50, 95, 90, 98, 39, 16, 82, 31, 92, 41,\n",
    " 45, 30, 66, 70, 34, 85, 94, 5, 3, 36, 72, 91, 84, 34, 87, 75, 53, 51, 20, 89, 51, 20]"
   ]
  },
  {
   "cell_type": "code",
   "execution_count": 10,
   "metadata": {},
   "outputs": [
    {
     "name": "stdout",
     "output_type": "stream",
     "text": [
      "[58, 74, 96, 64, 10, 24, 19, 33, 86, 99, 18, 47, 88, 55, 54, 8, 79, 81, 57, 37, 1, 9, 95, 90, 98, 39, 16, 82, 92, 41, 30, 94, 5, 72, 87, 75, 53]\n"
     ]
    }
   ],
   "source": [
    "def unique(l):\n",
    "    dict = {}\n",
    "    new_l = []\n",
    "    for i in l:\n",
    "        dict[i] = l.count(i)\n",
    "        if(dict[i] == 1):\n",
    "           new_l.append(i)\n",
    "\n",
    "    print(new_l)\n",
    "\n",
    "unique(l) \n",
    "    "
   ]
  },
  {
   "cell_type": "markdown",
   "metadata": {},
   "source": [
    "6\\. Combination of functions\n",
    "\n",
    "Write two functions - one that returns the square of a number, and one that returns the cube. Now write a third function that returns the number raised to the 6th power using the two previous functions."
   ]
  },
  {
   "cell_type": "code",
   "execution_count": 4,
   "metadata": {},
   "outputs": [
    {
     "data": {
      "text/plain": [
       "64"
      ]
     },
     "execution_count": 4,
     "metadata": {},
     "output_type": "execute_result"
    }
   ],
   "source": [
    "x = 2\n",
    "\n",
    "def square(x):\n",
    "    return(x * x)\n",
    "\n",
    "def cube(y):\n",
    "    return(y * y * y)\n",
    "\n",
    "def sixth(z):\n",
    "    return(square(cube(z)))\n",
    "\n",
    "sixth(x)"
   ]
  },
  {
   "cell_type": "markdown",
   "metadata": {},
   "source": [
    "7\\. Cubes\n",
    "\n",
    "Create a list of the cubes of x for x in *[0, 10]* using:\n",
    "\n",
    "a) a for loop\n",
    "\n",
    "b) a list comprehension"
   ]
  },
  {
   "cell_type": "markdown",
   "metadata": {},
   "source": [
    "#### a)"
   ]
  },
  {
   "cell_type": "code",
   "execution_count": 12,
   "metadata": {},
   "outputs": [
    {
     "name": "stdout",
     "output_type": "stream",
     "text": [
      "[1, 8, 27, 64, 125, 216, 343, 512, 729, 1000]\n"
     ]
    }
   ],
   "source": [
    "x = list(range(1, 11))\n",
    "\n",
    "cube1 = []\n",
    "for i in x:\n",
    "    cube1.append(cube(i))\n",
    "\n",
    "print(cube1)"
   ]
  },
  {
   "cell_type": "markdown",
   "metadata": {},
   "source": [
    "#### b)"
   ]
  },
  {
   "cell_type": "code",
   "execution_count": 13,
   "metadata": {},
   "outputs": [
    {
     "name": "stdout",
     "output_type": "stream",
     "text": [
      "[1, 8, 27, 64, 125, 216, 343, 512, 729, 1000]\n"
     ]
    }
   ],
   "source": [
    "cube2 = [cube(i) for i in x]\n",
    "\n",
    "print(cube2)"
   ]
  },
  {
   "cell_type": "markdown",
   "metadata": {},
   "source": [
    "8\\. Nested list comprehension\n",
    "\n",
    "A Pythagorean triple is an integer solution to the Pythagorean theorem $a^2+b^2=c^2$. The first Pythagorean triple is (3,4,5). Find and put in a tuple all unique Pythagorean triples for the positive integers a, b and c less than 100."
   ]
  },
  {
   "cell_type": "code",
   "execution_count": 31,
   "metadata": {},
   "outputs": [
    {
     "name": "stdout",
     "output_type": "stream",
     "text": [
      "[[4, 3, 5.0], [3, 4, 5.0], [12, 5, 13.0], [8, 6, 10.0], [24, 7, 25.0], [6, 8, 10.0], [15, 8, 17.0], [12, 9, 15.0], [40, 9, 41.0], [24, 10, 26.0], [60, 11, 61.0], [5, 12, 13.0], [9, 12, 15.0], [16, 12, 20.0], [35, 12, 37.0], [84, 13, 85.0], [48, 14, 50.0], [8, 15, 17.0], [20, 15, 25.0], [36, 15, 39.0], [12, 16, 20.0], [30, 16, 34.0], [63, 16, 65.0], [24, 18, 30.0], [80, 18, 82.0], [15, 20, 25.0], [21, 20, 29.0], [48, 20, 52.0], [99, 20, 101.0], [20, 21, 29.0], [28, 21, 35.0], [72, 21, 75.0], [7, 24, 25.0], [10, 24, 26.0], [18, 24, 30.0], [32, 24, 40.0], [45, 24, 51.0], [70, 24, 74.0], [60, 25, 65.0], [36, 27, 45.0], [21, 28, 35.0], [45, 28, 53.0], [96, 28, 100.0], [16, 30, 34.0], [40, 30, 50.0], [72, 30, 78.0], [24, 32, 40.0], [60, 32, 68.0], [44, 33, 55.0], [56, 33, 65.0], [12, 35, 37.0], [84, 35, 91.0], [15, 36, 39.0], [27, 36, 45.0], [48, 36, 60.0], [77, 36, 85.0], [52, 39, 65.0], [80, 39, 89.0], [9, 40, 41.0], [30, 40, 50.0], [42, 40, 58.0], [75, 40, 85.0], [96, 40, 104.0], [40, 42, 58.0], [56, 42, 70.0], [33, 44, 55.0], [24, 45, 51.0], [28, 45, 53.0], [60, 45, 75.0], [14, 48, 50.0], [20, 48, 52.0], [36, 48, 60.0], [55, 48, 73.0], [64, 48, 80.0], [90, 48, 102.0], [68, 51, 85.0], [39, 52, 65.0], [72, 54, 90.0], [48, 55, 73.0], [33, 56, 65.0], [42, 56, 70.0], [90, 56, 106.0], [76, 57, 95.0], [11, 60, 61.0], [25, 60, 65.0], [32, 60, 68.0], [45, 60, 75.0], [63, 60, 87.0], [80, 60, 100.0], [91, 60, 109.0], [16, 63, 65.0], [60, 63, 87.0], [84, 63, 105.0], [48, 64, 80.0], [72, 65, 97.0], [88, 66, 110.0], [51, 68, 85.0], [92, 69, 115.0], [24, 70, 74.0], [21, 72, 75.0], [30, 72, 78.0], [54, 72, 90.0], [65, 72, 97.0], [96, 72, 120.0], [40, 75, 85.0], [100, 75, 125.0], [57, 76, 95.0], [36, 77, 85.0], [18, 80, 82.0], [39, 80, 89.0], [60, 80, 100.0], [84, 80, 116.0], [13, 84, 85.0], [35, 84, 91.0], [63, 84, 105.0], [80, 84, 116.0], [66, 88, 110.0], [48, 90, 102.0], [56, 90, 106.0], [60, 91, 109.0], [69, 92, 115.0], [28, 96, 100.0], [40, 96, 104.0], [72, 96, 120.0], [20, 99, 101.0], [75, 100, 125.0]]\n"
     ]
    }
   ],
   "source": [
    "pit = [[a, b, (a ** 2 + b ** 2) ** 0.5] for b in range(3, 101) for a in range(3, 101) if (a ** 2 + b ** 2) ** 0.5 % 1 == 0]\n",
    "\n",
    "print(pit)"
   ]
  },
  {
   "cell_type": "markdown",
   "metadata": {},
   "source": [
    "9\\. Normalization\n",
    "\n",
    "Write a function that takes a tuple of numbers and returns it with the entries normalized to one"
   ]
  },
  {
   "cell_type": "code",
   "execution_count": 56,
   "metadata": {},
   "outputs": [
    {
     "name": "stdout",
     "output_type": "stream",
     "text": [
      "[0.005, 0.01, 0.015, 0.02, 0.025, 0.03, 0.035, 0.04, 0.045, 0.05, 0.055, 0.06, 0.065, 0.07, 0.075, 0.08, 0.085, 0.09, 0.095, 0.05]\n"
     ]
    }
   ],
   "source": [
    "list = [1, 2, 3, 4, 5, 6, 7, 8, 9, 10, 11, 12, 13, 14, 15, 16, 17, 18, 19, 10]\n",
    "\n",
    "def norm(list):\n",
    "    mod = 0\n",
    "    for i in list:\n",
    "        mod += i\n",
    "    newlist = [j / mod for j in list] \n",
    "    return(newlist)\n",
    "\n",
    "print(norm(list))"
   ]
  }
 ],
 "metadata": {
  "kernelspec": {
   "display_name": "Python 3 (ipykernel)",
   "language": "python",
   "name": "python3"
  },
  "language_info": {
   "codemirror_mode": {
    "name": "ipython",
    "version": 3
   },
   "file_extension": ".py",
   "mimetype": "text/x-python",
   "name": "python",
   "nbconvert_exporter": "python",
   "pygments_lexer": "ipython3",
   "version": "3.9.2"
  }
 },
 "nbformat": 4,
 "nbformat_minor": 2
}
